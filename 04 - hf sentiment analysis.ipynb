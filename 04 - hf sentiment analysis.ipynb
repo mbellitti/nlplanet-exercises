{
 "cells": [
  {
   "cell_type": "code",
   "execution_count": 8,
   "metadata": {},
   "outputs": [],
   "source": [
    "from transformers import pipeline\n",
    "from datasets import load_dataset\n",
    "from tqdm import tqdm\n",
    "import pandas as pd\n",
    "import plotly.express as px\n",
    "import textwrap"
   ]
  },
  {
   "cell_type": "markdown",
   "metadata": {},
   "source": [
    "In this notebook I'll showcase basic sentiment analysis on tweets using the Huggingface's `Pipeline` interface."
   ]
  },
  {
   "cell_type": "code",
   "execution_count": 9,
   "metadata": {},
   "outputs": [
    {
     "name": "stderr",
     "output_type": "stream",
     "text": [
      "Device set to use cuda:0\n"
     ]
    }
   ],
   "source": [
    "classifier = pipeline(task=\"sentiment-analysis\",model='distilbert/distilbert-base-uncased-finetuned-sst-2-english')"
   ]
  },
  {
   "cell_type": "markdown",
   "metadata": {},
   "source": [
    "Let's load a few tweets and classify them"
   ]
  },
  {
   "cell_type": "code",
   "execution_count": 10,
   "metadata": {},
   "outputs": [],
   "source": [
    "dataset = load_dataset(\"carblacac/twitter-sentiment-analysis\", split=\"train\")"
   ]
  },
  {
   "cell_type": "code",
   "execution_count": 11,
   "metadata": {},
   "outputs": [],
   "source": [
    "inputs = dataset['text'][:200]\n",
    "truth = dataset['feeling'][:200]"
   ]
  },
  {
   "cell_type": "code",
   "execution_count": 12,
   "metadata": {},
   "outputs": [],
   "source": [
    "answers = classifier(inputs)"
   ]
  },
  {
   "cell_type": "code",
   "execution_count": 13,
   "metadata": {},
   "outputs": [],
   "source": [
    "df = pd.DataFrame([inputs,truth,answers]).T.rename(columns={0:'text',1:'truth',2:'output'})\n",
    "df['truth'] = df['truth'].replace({0:'NEGATIVE',1:'POSITIVE'})"
   ]
  },
  {
   "cell_type": "code",
   "execution_count": 14,
   "metadata": {},
   "outputs": [
    {
     "data": {
      "text/html": [
       "<div>\n",
       "<style scoped>\n",
       "    .dataframe tbody tr th:only-of-type {\n",
       "        vertical-align: middle;\n",
       "    }\n",
       "\n",
       "    .dataframe tbody tr th {\n",
       "        vertical-align: top;\n",
       "    }\n",
       "\n",
       "    .dataframe thead th {\n",
       "        text-align: right;\n",
       "    }\n",
       "</style>\n",
       "<table border=\"1\" class=\"dataframe\">\n",
       "  <thead>\n",
       "    <tr style=\"text-align: right;\">\n",
       "      <th></th>\n",
       "      <th>text</th>\n",
       "      <th>truth</th>\n",
       "      <th>output</th>\n",
       "      <th>sentiment</th>\n",
       "      <th>score</th>\n",
       "    </tr>\n",
       "  </thead>\n",
       "  <tbody>\n",
       "    <tr>\n",
       "      <th>0</th>\n",
       "      <td>@fa6ami86 so happy that salman won.  btw the 1...</td>\n",
       "      <td>NEGATIVE</td>\n",
       "      <td>{'label': 'POSITIVE', 'score': 0.9986536502838...</td>\n",
       "      <td>POSITIVE</td>\n",
       "      <td>0.001346</td>\n",
       "    </tr>\n",
       "    <tr>\n",
       "      <th>1</th>\n",
       "      <td>@phantompoptart .......oops.... I guess I'm ki...</td>\n",
       "      <td>NEGATIVE</td>\n",
       "      <td>{'label': 'NEGATIVE', 'score': 0.9995519518852...</td>\n",
       "      <td>NEGATIVE</td>\n",
       "      <td>0.999552</td>\n",
       "    </tr>\n",
       "    <tr>\n",
       "      <th>2</th>\n",
       "      <td>@bradleyjp decidedly undecided. Depends on the...</td>\n",
       "      <td>POSITIVE</td>\n",
       "      <td>{'label': 'NEGATIVE', 'score': 0.9778768420219...</td>\n",
       "      <td>NEGATIVE</td>\n",
       "      <td>0.977877</td>\n",
       "    </tr>\n",
       "    <tr>\n",
       "      <th>3</th>\n",
       "      <td>@Mountgrace lol i know! its so frustrating isn...</td>\n",
       "      <td>POSITIVE</td>\n",
       "      <td>{'label': 'NEGATIVE', 'score': 0.9986138343811...</td>\n",
       "      <td>NEGATIVE</td>\n",
       "      <td>0.998614</td>\n",
       "    </tr>\n",
       "    <tr>\n",
       "      <th>4</th>\n",
       "      <td>@kathystover Didn't go much of any where - Lif...</td>\n",
       "      <td>POSITIVE</td>\n",
       "      <td>{'label': 'NEGATIVE', 'score': 0.9996030926704...</td>\n",
       "      <td>NEGATIVE</td>\n",
       "      <td>0.999603</td>\n",
       "    </tr>\n",
       "    <tr>\n",
       "      <th>...</th>\n",
       "      <td>...</td>\n",
       "      <td>...</td>\n",
       "      <td>...</td>\n",
       "      <td>...</td>\n",
       "      <td>...</td>\n",
       "    </tr>\n",
       "    <tr>\n",
       "      <th>195</th>\n",
       "      <td>@jonasbrothers http://twitpic.com/5t2p6 - JONA...</td>\n",
       "      <td>NEGATIVE</td>\n",
       "      <td>{'label': 'NEGATIVE', 'score': 0.9842454791069...</td>\n",
       "      <td>NEGATIVE</td>\n",
       "      <td>0.984245</td>\n",
       "    </tr>\n",
       "    <tr>\n",
       "      <th>196</th>\n",
       "      <td>there's this man in our roof.. like literally ...</td>\n",
       "      <td>NEGATIVE</td>\n",
       "      <td>{'label': 'NEGATIVE', 'score': 0.9850871562957...</td>\n",
       "      <td>NEGATIVE</td>\n",
       "      <td>0.985087</td>\n",
       "    </tr>\n",
       "    <tr>\n",
       "      <th>197</th>\n",
       "      <td>emma love you to death, miss you tons.  wish y...</td>\n",
       "      <td>NEGATIVE</td>\n",
       "      <td>{'label': 'POSITIVE', 'score': 0.9997510313987...</td>\n",
       "      <td>POSITIVE</td>\n",
       "      <td>0.000249</td>\n",
       "    </tr>\n",
       "    <tr>\n",
       "      <th>198</th>\n",
       "      <td>@evila_elf lucky for you, then. I always seem ...</td>\n",
       "      <td>POSITIVE</td>\n",
       "      <td>{'label': 'NEGATIVE', 'score': 0.9510592818260...</td>\n",
       "      <td>NEGATIVE</td>\n",
       "      <td>0.951059</td>\n",
       "    </tr>\n",
       "    <tr>\n",
       "      <th>199</th>\n",
       "      <td>AW, MAN. My dad got me Sims 3 for my birthday ...</td>\n",
       "      <td>NEGATIVE</td>\n",
       "      <td>{'label': 'NEGATIVE', 'score': 0.9996100068092...</td>\n",
       "      <td>NEGATIVE</td>\n",
       "      <td>0.999610</td>\n",
       "    </tr>\n",
       "  </tbody>\n",
       "</table>\n",
       "<p>200 rows × 5 columns</p>\n",
       "</div>"
      ],
      "text/plain": [
       "                                                  text     truth  \\\n",
       "0    @fa6ami86 so happy that salman won.  btw the 1...  NEGATIVE   \n",
       "1    @phantompoptart .......oops.... I guess I'm ki...  NEGATIVE   \n",
       "2    @bradleyjp decidedly undecided. Depends on the...  POSITIVE   \n",
       "3    @Mountgrace lol i know! its so frustrating isn...  POSITIVE   \n",
       "4    @kathystover Didn't go much of any where - Lif...  POSITIVE   \n",
       "..                                                 ...       ...   \n",
       "195  @jonasbrothers http://twitpic.com/5t2p6 - JONA...  NEGATIVE   \n",
       "196  there's this man in our roof.. like literally ...  NEGATIVE   \n",
       "197  emma love you to death, miss you tons.  wish y...  NEGATIVE   \n",
       "198  @evila_elf lucky for you, then. I always seem ...  POSITIVE   \n",
       "199  AW, MAN. My dad got me Sims 3 for my birthday ...  NEGATIVE   \n",
       "\n",
       "                                                output sentiment     score  \n",
       "0    {'label': 'POSITIVE', 'score': 0.9986536502838...  POSITIVE  0.001346  \n",
       "1    {'label': 'NEGATIVE', 'score': 0.9995519518852...  NEGATIVE  0.999552  \n",
       "2    {'label': 'NEGATIVE', 'score': 0.9778768420219...  NEGATIVE  0.977877  \n",
       "3    {'label': 'NEGATIVE', 'score': 0.9986138343811...  NEGATIVE  0.998614  \n",
       "4    {'label': 'NEGATIVE', 'score': 0.9996030926704...  NEGATIVE  0.999603  \n",
       "..                                                 ...       ...       ...  \n",
       "195  {'label': 'NEGATIVE', 'score': 0.9842454791069...  NEGATIVE  0.984245  \n",
       "196  {'label': 'NEGATIVE', 'score': 0.9850871562957...  NEGATIVE  0.985087  \n",
       "197  {'label': 'POSITIVE', 'score': 0.9997510313987...  POSITIVE  0.000249  \n",
       "198  {'label': 'NEGATIVE', 'score': 0.9510592818260...  NEGATIVE  0.951059  \n",
       "199  {'label': 'NEGATIVE', 'score': 0.9996100068092...  NEGATIVE  0.999610  \n",
       "\n",
       "[200 rows x 5 columns]"
      ]
     },
     "execution_count": 14,
     "metadata": {},
     "output_type": "execute_result"
    }
   ],
   "source": [
    "df['sentiment'] = df['output'].apply(lambda t: t['label'])\n",
    "df['score'] = df['output'].apply(lambda t: t['score'] if t['label'] == 'NEGATIVE' else 1-t['score'])\n",
    "df"
   ]
  },
  {
   "cell_type": "markdown",
   "metadata": {},
   "source": [
    "The tooltip in Plotly express does not wrap text, so we have to do it by hand to prevent it from being awkwardly cut in the visualization."
   ]
  },
  {
   "cell_type": "code",
   "execution_count": 15,
   "metadata": {},
   "outputs": [],
   "source": [
    "df['wrapped_text'] = df['text'].apply(lambda x: '<br>'.join(textwrap.wrap(x, width=50)))"
   ]
  },
  {
   "cell_type": "code",
   "execution_count": 16,
   "metadata": {},
   "outputs": [
    {
     "name": "stdout",
     "output_type": "stream",
     "text": [
      "              precision    recall  f1-score   support\n",
      "\n",
      "    NEGATIVE       0.68      0.85      0.76        89\n",
      "    POSITIVE       0.85      0.68      0.75       111\n",
      "\n",
      "    accuracy                           0.76       200\n",
      "   macro avg       0.77      0.76      0.75       200\n",
      "weighted avg       0.77      0.76      0.75       200\n",
      "\n"
     ]
    }
   ],
   "source": [
    "from sklearn.metrics import classification_report,ConfusionMatrixDisplay, confusion_matrix\n",
    "\n",
    "report = classification_report(df['truth'], df['sentiment'])\n",
    "print(report)"
   ]
  },
  {
   "cell_type": "markdown",
   "metadata": {},
   "source": [
    "It looks like model mostly performs well (F1=0.75), but it seems poorly calibrated: it predicts incorrectly with high confidence. For ambiguous cases (e.g. \"busy busy! getting ready for my open house!\") it should predict closer to 0.5. "
   ]
  },
  {
   "cell_type": "code",
   "execution_count": 17,
   "metadata": {},
   "outputs": [
    {
     "data": {
      "application/vnd.plotly.v1+json": {
       "config": {
        "plotlyServerURL": "https://plot.ly"
       },
       "data": [
        {
         "customdata": [
          [
           "@fa6ami86 so happy that salman won.  btw the 14sec<br>clip is truely a teaser"
          ],
          [
           "@phantompoptart .......oops.... I guess I'm kinda<br>out of it.... Blonde moment -blushes- epic fail"
          ],
          [
           "@lisastarlynn I haven't heard anything. I'll tweet<br>you as soon as I hear. I'm really worried actually"
          ],
          [
           "@lamere thank you so much, looking at these pics<br>makes me want to have one more"
          ],
          [
           "not it teh best form today, dont no why, just<br>having a pissy day, i am all ways happy but to day<br>ah not really   annoyed, bored, angry"
          ],
          [
           "Just grabbed some bagels from Panera for everyone<br>at wk. It's Brittany's last day"
          ],
          [
           "Hoping for a better day today. Yesterday was fine<br>until I passed out at my desk, fell off chair, and<br>carpet burned my forehead."
          ],
          [
           "say it ain't so #trackle say it ain't so!"
          ],
          [
           "att workkk dyinggg to get the fxckkkkk outt"
          ],
          [
           "Said something harsh and didn't even realize it's<br>harsh until I said it.. Sorry<br>http://myloc.me/2Keo"
          ],
          [
           "@jchronowski47    oh no...tied now!   -Linda"
          ],
          [
           "Hoping I at least have fun 2nite.  Today was 1<br>horrible way 2 start off a birthday"
          ],
          [
           "Italian Shaved on the mall is D-licious and all<br>over me!!!  and my printer...  But it is<br>D-Licious!"
          ],
          [
           "@franklang Wish I were in Switzerland.... The<br>blues are playing like amateurs"
          ],
          [
           "Done with recital A     but it went well!!!  3<br>more to go!  yay!!!!!"
          ],
          [
           "Nagging tummy ache 4 days now...kept me up w/<br>nightmares last night  tums are my bff rt now"
          ],
          [
           "@NMaize I miss Yobachi's totems  lol"
          ],
          [
           "Need to visit the &quot;Australia Shop&quot; - I'm<br>down to my last 2 Butter Menthols and my throat is<br>still hurty"
          ],
          [
           "is drinking lovely tea she bought in London in<br>December: Yumchaa's &quot;Caramel<br>Sweetheart&quot;. It's almost all gone...<br>http://www.yumchaa.com/"
          ],
          [
           "how sad is losing laptop's adaptor?"
          ],
          [
           "@ddlovato owr family own a jehtskii (: buht ihts<br>winter over here so ihave too wait till summer<br>jetskis are so fun."
          ],
          [
           "I miss the two david. archuleta and cook! HUHU  i<br>miss them soooo baaad!"
          ],
          [
           "@etrangle k check ur hotmail! i cant rly help much<br>now"
          ],
          [
           "gonna sleep now la. tmr school.  no off-in-lieu<br>for sat's vesak day. not fair. tmr programming.<br>deal with codes again. haiyah."
          ],
          [
           "@squarespace This my last tweet to you.  I would<br>LOVE to win an iphone but my luck hasn't been the<br>best here lately. #squarespace"
          ],
          [
           "Gotta do some chores now  Then will do a bit of<br>revision, and then finish up my video!"
          ],
          [
           "@MeAllTimeLow i know. You were laughing while i<br>was on the ground"
          ],
          [
           "@sharaknight dang it I got a second look and he<br>was so good looking but I had to get off for my<br>exit"
          ],
          [
           "@Chicago_Ted I just miss driving my car.  I<br>haven't driven it since I got back yet."
          ],
          [
           "it's Julie's last day in the office before heading<br>back to the UK for good  Cyprus will miss her."
          ],
          [
           "is sad  things are already not the same...."
          ],
          [
           "@TomRaftery No problem, my family have kept bee's<br>for 4 generations, however I suffer from<br>anaphylaxis to bee sting"
          ],
          [
           "my poor puppy is a litle depress"
          ],
          [
           "Ohhhh lord production is going way over time! NY I<br>wish was now... Vacation"
          ],
          [
           "My twitpic isn't working  I wanna show ya'll my<br>sexy shoes I'm rockin tonight....."
          ],
          [
           "Had to unfollow some people guys.    I can't get<br>flooded every time."
          ],
          [
           "@logansutch You can go driving?! HOW?! WHY!"
          ],
          [
           "On the way to camp at last. Think I might have<br>offended someone at the meeting earlier, and it<br>bugs me."
          ],
          [
           "i need sleep. Its too early. I went to bed at like<br>6 something because i couldnt sleep"
          ],
          [
           "In 5 minutes my birthday is over"
          ],
          [
           "Going to bed, strangely feeling quite nauseous"
          ],
          [
           "Bored, was sewing but now RSI is troubling me"
          ],
          [
           "@JLSOfficial R jLs EvA gONnA PlAy iN DuBliN ???<br>sEeN YiS aT d ChiLdLinE CoNcErT DaHs iT"
          ],
          [
           "idont get it. its OUR vacation too so how cum we<br>cant decide wat 2 do - its planned 4 us if we like<br>it or not"
          ],
          [
           "Lunchtime walks in a bid to lose weight are most<br>annoying when all the pubs one passes are throwing<br>out delicious food smells"
          ],
          [
           "@vrthejas I have many more than that. ."
          ],
          [
           "I'm just trying to write CIL I can't think of<br>anything ARGHHH"
          ],
          [
           "listen music, and doing my homework"
          ],
          [
           "Walked outside for a few mins, and now covered in<br>Skeeter bites"
          ],
          [
           "itunes says that an update is available (3.0), but<br>then just does nothing when I press update"
          ],
          [
           "Hmm don't know what to do today -- Model just<br>canceled   = I hate it when that happens..will<br>have to do gardening!"
          ],
          [
           "Still terrfied.  Joe just seems snotty with cold,<br>but never had anything quite like this to deal<br>with.  lost my invulnerability in 2007"
          ],
          [
           "@jannapha  I just wanted it to be clear and no<br>confusion."
          ],
          [
           "Must clean house  Klaxons to the rescue!"
          ],
          [
           "Just said goodbye to the fam. The only sad part<br>about leaving"
          ],
          [
           "okay, so everyone else i went with seemed to hate<br>brokeback mountain, or at least josie and zach did<br>and they were the loudest criticizers."
          ],
          [
           "BP Only half over&lt;3 My throat hurts  Who cares!"
          ],
          [
           "Im O.deee tired and jus finished my codes for web<br>design II blahh school suckss"
          ],
          [
           "@Shivalix  .. the forum is having alot of problems<br>recently  wish it will hurry up and work :L xx"
          ],
          [
           "I want to go shopping so bad but have to wait for<br>the check onFriday."
          ],
          [
           "@zazzle not following my zazzle tweets?"
          ],
          [
           "@brandizzle I want a massage..."
          ],
          [
           "@jordanknight Hey Hey Mr Knight, while you're<br>rehearsing away, im sitting doing an assessment<br>for college  UK misses you guys xxx"
          ],
          [
           "just left a memorial service for a co-worker"
          ],
          [
           "@2kids1love I wanted burritos for tea but my mum<br>said no like always so I had to have salad instead"
          ],
          [
           "@ChrisOnAir Missed the damn show on Friday"
          ],
          [
           "@ayubella hey! thank god,your online! im dying cuz<br>im so bored. nobody wants to talk to me."
          ],
          [
           "@paul_steele my name is chelsea."
          ],
          [
           "@chopped4snuff do you really?  lol"
          ],
          [
           "@KSwissInc they're half a size too small (tried<br>them today) and i need them for a trip on monday,<br>no one is answering at customer service"
          ],
          [
           "freaking out"
          ],
          [
           "im eating cassandra is a girl....i think ;D jk<br>srry for your tummy  ???? i cant make it better im<br>over hear and your there  im srry rubtum"
          ],
          [
           "@ashphilip I KNOW! the wind is friggin hot too! so<br>disgusting"
          ],
          [
           "I'm being all avoidy with people from my project."
          ],
          [
           "Still at work ..... working, it's going to be a<br>long day"
          ],
          [
           "I've been patiently waiting for the new AP to<br>come, but it still hasn't! I don't know what to do<br>with myself"
          ],
          [
           "@Bluwiikoon YEAH WELL.  STUFF LIKE THIS IS ONE OF<br>THE FEW THINGS THAT MAKES MY MANLY EXTERIOR<br>EXPLODE"
          ],
          [
           "cant sleep. tossing and turning without him by my<br>side"
          ],
          [
           "@Pj18113 ur a junior member so i can't watch you"
          ],
          [
           "@LeelooDogBlog thought it was done but still a bit<br>pink.... dammmnnnn back in"
          ],
          [
           "@batbuick .. .great.. you can buy me lunch when i<br>get my 10-15% pay cut next month.."
          ],
          [
           "@LeanneBarbery Dam we where gonna go to Northgate<br>but LIL G is full of cold  much to Molly's disgust<br>just not worth it tho!"
          ],
          [
           "@Jonperezinsd @BoomboxBui I can't tonight... I am<br>still sore!  Hopefully I'll be ready within the<br>next couple of days."
          ],
          [
           "I think I'm blocked again... when am I going to<br>finish these book???"
          ],
          [
           "@carkeen Yes, ONE hour!"
          ],
          [
           "@jonasbrothers http://twitpic.com/5t2p6 - JONAS<br>COME TO BOLIVIA PLEASE! YOU CAME TO SOUTH<br>AMERICA.. BUT YOU DIDN'T COME TO BOLIVIA  .. ..."
          ],
          [
           "there's this man in our roof.. like literally in<br>our roof.. I wana go up and look nowwww"
          ],
          [
           "emma love you to death, miss you tons.  wish you<br>never moved  want to see you, thinking of you<br>always. love you emma."
          ],
          [
           "AW, MAN. My dad got me Sims 3 for my birthday but<br>it won't work on any of the computers. Major<br>sadface"
          ]
         ],
         "hovertemplate": "truth=NEGATIVE<br>score=%{x}<br>index=%{y}<br>wrapped_text=%{customdata[0]}<extra></extra>",
         "legendgroup": "NEGATIVE",
         "marker": {
          "color": "#636efa",
          "symbol": "circle"
         },
         "mode": "markers",
         "name": "NEGATIVE",
         "orientation": "h",
         "showlegend": true,
         "type": "scatter",
         "x": [
          0.0013463497161865234,
          0.9995519518852234,
          0.9921497106552124,
          0.0035262703895568848,
          0.5908256769180298,
          0.33763444423675537,
          0.9978498220443726,
          0.9943236112594604,
          0.992766261100769,
          0.9987130165100098,
          0.9838584065437317,
          0.992416501045227,
          0.9914758205413818,
          0.9991924166679382,
          0.0004355311393737793,
          0.9963269829750061,
          0.9959473013877869,
          0.9985328912734985,
          0.9709200263023376,
          0.9997883439064026,
          0.9886152744293213,
          0.9975517392158508,
          0.9832469820976257,
          0.99955815076828,
          0.9852640628814697,
          0.9955541491508484,
          0.014238595962524414,
          0.9916108250617981,
          0.9997299313545227,
          0.9986487030982971,
          0.9996206760406494,
          0.9934023022651672,
          0.9993745684623718,
          0.9924994111061096,
          0.9988254904747009,
          0.9667745232582092,
          0.9754453897476196,
          0.999645471572876,
          0.9958741068840027,
          0.9416186213493347,
          0.996594250202179,
          0.9996417760848999,
          0.9951150417327881,
          0.99489426612854,
          0.9882864356040955,
          0.005071401596069336,
          0.9990990161895752,
          0.002408742904663086,
          0.9987834095954895,
          0.9994494318962097,
          0.9997411370277405,
          0.9995261430740356,
          0.0371091365814209,
          0.8183808326721191,
          0.9890695214271545,
          0.9888479709625244,
          0.9994117021560669,
          0.9996241331100464,
          0.9942166805267334,
          0.9993878602981567,
          0.9992122650146484,
          0.7752429246902466,
          0.9983093738555908,
          0.9995067119598389,
          0.9964144229888916,
          0.9994895458221436,
          0.9996267557144165,
          0.26959091424942017,
          0.9880992770195007,
          0.9997052550315857,
          0.9956271648406982,
          0.9865097403526306,
          0.9979159235954285,
          0.9933231472969055,
          0.9914051294326782,
          0.9969903230667114,
          0.004408419132232666,
          0.9247162938117981,
          0.9933045506477356,
          0.9929153919219971,
          0.0007120966911315918,
          0.9997225403785706,
          0.9970732927322388,
          0.9996951818466187,
          0.03201091289520264,
          0.9842454791069031,
          0.9850871562957764,
          0.00024896860122680664,
          0.9996100068092346
         ],
         "xaxis": "x",
         "y": [
          0,
          1,
          6,
          8,
          9,
          11,
          13,
          16,
          17,
          18,
          19,
          21,
          23,
          29,
          33,
          34,
          38,
          40,
          42,
          45,
          47,
          48,
          49,
          50,
          54,
          56,
          58,
          59,
          61,
          62,
          63,
          64,
          65,
          66,
          69,
          71,
          72,
          77,
          78,
          80,
          81,
          82,
          83,
          87,
          89,
          90,
          92,
          93,
          94,
          95,
          96,
          101,
          102,
          104,
          106,
          107,
          112,
          114,
          122,
          129,
          136,
          137,
          143,
          144,
          147,
          153,
          155,
          156,
          159,
          160,
          164,
          165,
          166,
          170,
          171,
          175,
          178,
          180,
          181,
          182,
          183,
          185,
          188,
          189,
          191,
          195,
          196,
          197,
          199
         ],
         "yaxis": "y"
        },
        {
         "customdata": [
          [
           "@bradleyjp decidedly undecided. Depends on the<br>situation. When I'm out with the people I'll be in<br>Chicago with? Maybe."
          ],
          [
           "@Mountgrace lol i know! its so frustrating isnt<br>it?!"
          ],
          [
           "@kathystover Didn't go much of any where - Life<br>took over for a while"
          ],
          [
           "@TashaWilson like questions she asks me the date<br>etc..i say that i have been to birmingham lol its<br>weird o well  u ok?"
          ],
          [
           "@SusanCosmos @speakgirl Thx 4 sharing!"
          ],
          [
           "About to go to bed. Sleeping really late tomorrow!<br>I am so glad the Tigers won tonight!!"
          ],
          [
           "AHH i'm so HAPPY. I just found my ipod.  God is<br>sooo good to me!"
          ],
          [
           "@poepiandzegiant oops just saw you said hello! Hi<br>there"
          ],
          [
           "@jayadore fuckyeah ;) also yay shoes and bag!!!!!!<br>I'm excited for you"
          ],
          [
           "Twitter is useful in that it reminds people what<br>they forgot to ask me about on a given day. It is<br>also excellent for inspiration"
          ],
          [
           "@kirsty_gilfo yup! That's the one  Mmm....yum cha!<br>Have lots of dumplings for me"
          ],
          [
           "Mum's off to bed... Nip/tuck time noow"
          ],
          [
           "@WKJThD but-I know He has awesome plans thru it<br>all-and I will hold my head up high...  blessed<br>with you all!!  HOW ARE YOU???"
          ],
          [
           "Have been LOL big time at this Apprentice video<br>http://ping.fm/vXPnd (via @tdrury) - Thanks, me<br>and @rebel_aceman laughed at it too!"
          ],
          [
           "Sometimes, people who hate Twitter are so much<br>more amusing than people who use Twitter...."
          ],
          [
           "60+ Beautiful Logo Design Tutorials And Resources<br>http://bit.ly/Q5Jo0 Wel nice"
          ],
          [
           "@Junderstated lls ain't that the truth"
          ],
          [
           "@NileyLoveStory probably wesupportmustin :| I<br>don't affilate myself with Niley videos on<br>teammustin"
          ],
          [
           "My favorite song for now. I even learned the dance<br>moves also  Ã¢â¢Â« http://blip.fm/~7sf9m"
          ],
          [
           "500 fps"
          ],
          [
           "@polyzzz Goodnight and sweet dreams to you also"
          ],
          [
           "Thinking of getting a tatoo"
          ],
          [
           "@sdawara ooooo.... even before @maheshmurthy<br>started seedfund, the fund given in seed stage<br>used to b called as seedfund.."
          ],
          [
           "@NicoleSimon Threat or promise?"
          ],
          [
           "@GDuffOnline Thanks babe. Hitting the station<br>2day. Go drop some bangas."
          ],
          [
           "@Alphacat1 hehehe bless  you enjoy star trek, you<br>should be sleeping it's late LOL bad kitty hehehe<br>LoveYa"
          ],
          [
           "@MeganCamp Those are all popular responses"
          ],
          [
           "@MissSydneyJ Im good, lol... I feel awake"
          ],
          [
           "@AJDADDY lol I absolutely hate u!"
          ],
          [
           "@meaghanellenxo oh awesome =] i cant wait to hear<br>it eh"
          ],
          [
           "Wow... Airbus 380, take me away!<br>http://bit.ly/63feh"
          ],
          [
           "@D_AMAZIN Won't I get arrested if I am naked on<br>the beach?lol"
          ],
          [
           "@itsjudytime I just spent the last couple of hours<br>on your YouTube channel.  Great videos!!!"
          ],
          [
           "How to build a large MULTIMEDIA presentation<br>online - from Soul of Athens 2009, LIVE TODAY!<br>http://bit.ly/1fBIk PLUS inspiring MM sites"
          ],
          [
           "@nicadler... im sooooo with ya"
          ],
          [
           "@beckaymc  no problem!  your welcome."
          ],
          [
           "Decided to play with the new arduino for the first<br>time - sooo easy to get started  Now having fun<br>with code and flashy lights!"
          ],
          [
           "it's just about done!"
          ],
          [
           "@DubDior Lmfaooooo .. i mean anything for u!  i<br>tried to do that as smoove as possible! lol U was<br>good tho !"
          ],
          [
           "Hi Haters...who talking bout my Elem school pic<br>Chellelilbmore@UrbanInformer i love your new pic<br>you were handsome back then and still is"
          ],
          [
           "bliss n eso &amp; pink concert soon"
          ],
          [
           "@LilPookieJ I learned from you"
          ],
          [
           "@ViolaMaths Wow, you must be shattered! Glad you<br>enjoyed gig and hope maths lecture went well. Did<br>you manage to stay awake?!!"
          ],
          [
           "@BillohBill &quot;projectile&quot; very clever<br>warpig"
          ],
          [
           "gota watch hollyoaks this morning, in bed me<br>thinks"
          ],
          [
           "Back home! Feels great sitting in front of moi<br>desk's 32' LCD"
          ],
          [
           "(@SHUTUP) it's so warm here  just the way i love<br>it"
          ],
          [
           "Yes my laptop works  So now i can abort my<br>diplomthesis"
          ],
          [
           "@halina1979 hey! sent you some pics to your<br>podcart email. hope you get them alright"
          ],
          [
           "Eminem... haha that was funny"
          ],
          [
           "@deepakkapoor I make time to breathe in may<br>calendar. Once a month I take a Friday off just<br>because I can  #itsgoodtosleepin"
          ],
          [
           "@sarvay Just saw you on @NBC12. Nice piece."
          ],
          [
           "@dmbtoffee we still have that to look forward<br>to...  ...but only if u get better by monday..<br>so.. take care of urself."
          ],
          [
           "@RylandWebb athletics carnival  seriously who even<br>goes to them these days."
          ],
          [
           "Esses meus Followers vem sendo uma famÃÂ­lia<br>online para mim.."
          ],
          [
           "@gnatty Sweet! Yeah, we thought yesterday was the<br>last black-out date, but apparently not. I'll keep<br>you updated!"
          ],
          [
           "@grahamcrackers &quot;I've got the peace that<br>passes understanding down in my<br>heart...Where?&quot;  Now I'll be singing it all<br>night too!!"
          ],
          [
           "GOOD MORNING VIETNAM   - http://bit.ly/1usuz"
          ],
          [
           "@mohammad111 Thank you for following me, I really<br>appreciate it! Look forward to your tweets!"
          ],
          [
           "going to thee cousin's house today!"
          ],
          [
           "@krulvesen @eddieizzard The element-of-surprise-<br>style-uniform has finally found its way to the U.S<br>Army..  http://bit.ly/2ruWY"
          ],
          [
           "Something nice in Paris this week?? I accept<br>tips.. thanks"
          ],
          [
           "@jakemcclain  Me too bro!  Let's keep in touch."
          ],
          [
           "@VictoriaIrene HAHA!! ) XD yar welcome!"
          ],
          [
           "wants two things to be back in the gym and vodka<br>and cran"
          ],
          [
           "@icebergstorm Thanks... I'm going to check that<br>out right now."
          ],
          [
           "It's always neat to listen in on people who have<br>never seen the inside of The Fox before.  Lots of<br>oooo's and aaaahhhhh's."
          ],
          [
           "@MrsPommeroy  TouchÃÂ©.  Steve Hewitt is far<br>better, far cooler anyway. Placebo will lose their<br>battle for the sun."
          ],
          [
           "@feliciamarie139 yep.  i preordered it back in<br>april. im soooo excited...i cant wait until the<br>mail gets here today! hah."
          ],
          [
           "finishing new songs is nice"
          ],
          [
           "Leo is spending the night!"
          ],
          [
           "Day light hours *shock* lol I love my new ear<br>rings  http://tinyurl.com/loxv8x"
          ],
          [
           "@fdevillamil Can't wait to see what's coming, and<br>thank you for being extremely fast at replying<br>hope you are having a great day."
          ],
          [
           "@raybooysen still living in the past with<br>#vistasquad tag"
          ],
          [
           "@sc_mu spend my day with Xin'g &gt; sex all day<br>)) see ya later &gt; ask ur GIs 2 be removal men<br>.ok 4 Bournemouth this weekend"
          ],
          [
           "@eliiiiza  I used to just catch the train to Melb<br>central and walk to everywhere from there. Got<br>lost looking for chapel st recently!"
          ],
          [
           "Happpy birthday Dean !"
          ],
          [
           "Ready for my study date with tonay at b&amp;n."
          ],
          [
           "five zipper pouches and four drawstring project<br>bags...and i'm spent."
          ],
          [
           "painting my toenails and making my friend a<br>bracalet"
          ],
          [
           "@KinanLW Haha, it's like fried rice but you'll eat<br>it as is, because there are pork or seafood or<br>vegetables there already!  It's grilled!"
          ],
          [
           "@sarahobrien_  ahem... I'm nearly 16! lol. hahah.<br>just another 20 days or so.  but no... what kid<br>would care about the real world?! xx"
          ],
          [
           "Ok, bedtime, I gotta get ready for a weekend full<br>of besties  YAY! Dear Chico graduates, I will<br>bless you with my presence in two days!"
          ],
          [
           "2nd period studyhall + remembered my ipod = music<br>time!"
          ],
          [
           "@madierox Thanks hun, it's always nice to hear<br>that  x"
          ],
          [
           "We have to take our clothes off to have a good<br>time. (8) Nannanannaaaaaaaa (8)"
          ],
          [
           "oooh my first twitter maintenance!"
          ],
          [
           "IO Psychic TV project facebook account is taking<br>off!    http://bit.ly/ubs1i  - the story is gettin<br>out!"
          ],
          [
           "@nataliehitz No wonder la ratings high"
          ],
          [
           "@thejetset ... and finally there's an iPhone app<br>that is under review with Apple. It's the ultimate<br>phonebook in my not so humble opinion"
          ],
          [
           "@unitechy yeah! it does! let me tweet u the link!"
          ],
          [
           "@judykyho ~ my dear judy ... take care ... ..."
          ],
          [
           "Finally got my official LBP sackboy off YouTube"
          ],
          [
           "@liamyoung morning"
          ],
          [
           "Being a crazy girlfriend and surprising Evan by<br>being at his car when he walks out"
          ],
          [
           "in the office today - Server Upgrades  Listening<br>to ACDC, looking forward to the concert next year!"
          ],
          [
           "these instructions are from stinksville. at the<br>end of day one it's rovio: 1 jerry: 0. stay<br>tuned.... paging dr @propmasta, america's cto"
          ],
          [
           "just about finished my personal growth plan for<br>next year, very exciting stuff - can't wait to get<br>it started again"
          ],
          [
           "go shopping  !!"
          ],
          [
           "@theashleytaylor I Miss You ASSHOLE!!!!!!.....Come<br>Contaminate My Life With German-ness."
          ],
          [
           "wakin up early!! runnin errrands"
          ],
          [
           "@Satans_Thong he's a thinker him"
          ],
          [
           "@doberama I've stopped running now. Definitely.<br>Until tomorrow at least. Hope this makes you feel<br>better"
          ],
          [
           "Church was good now @ the Chessecake factory for<br>lunch"
          ],
          [
           "hey,this ad is technically wrong,,Earth looked too<br>big in size ,  http://tinyurl.com/rxuz7e"
          ],
          [
           "#hoppusday Mark, you should make a YouTube channel<br>and film Blink-182 studio updates! We'd all<br>appreciate that."
          ],
          [
           "@renmiu I might"
          ],
          [
           "@clippercutqueen Thanks babe!  Got anymore photos?"
          ],
          [
           "@nevynxxx Let's hope they do, then we can ask them<br>to turn it down   (I'm an old woman, it'll hurt my<br>ageing ears)"
          ],
          [
           "@PRETTiE good timing on the vid  lol okay I'll<br>stop"
          ],
          [
           "@evila_elf lucky for you, then. I always seem to<br>get more red than anything else."
          ]
         ],
         "hovertemplate": "truth=POSITIVE<br>score=%{x}<br>index=%{y}<br>wrapped_text=%{customdata[0]}<extra></extra>",
         "legendgroup": "POSITIVE",
         "marker": {
          "color": "#EF553B",
          "symbol": "circle"
         },
         "mode": "markers",
         "name": "POSITIVE",
         "orientation": "h",
         "showlegend": true,
         "type": "scatter",
         "x": [
          0.9778768420219421,
          0.9986138343811035,
          0.9996030926704407,
          0.010448276996612549,
          0.021626591682434082,
          0.003377079963684082,
          0.00017374753952026367,
          0.4017893671989441,
          0.0025667548179626465,
          0.0002868771553039551,
          0.5469262003898621,
          0.9922866821289062,
          0.00015926361083984375,
          0.13731235265731812,
          0.0518457293510437,
          0.0004392266273498535,
          0.9929445385932922,
          0.9959512948989868,
          0.9700625538825989,
          0.03718143701553345,
          0.003720581531524658,
          0.7205643057823181,
          0.9925671815872192,
          0.9772102236747742,
          0.004123568534851074,
          0.00495988130569458,
          0.003445744514465332,
          0.00019878149032592773,
          0.9938030242919922,
          0.021632254123687744,
          0.013489186763763428,
          0.9074024558067322,
          0.0016440749168395996,
          0.000674128532409668,
          0.015154600143432617,
          0.0003758668899536133,
          0.0007088184356689453,
          0.019955933094024658,
          0.0019463300704956055,
          0.0007899999618530273,
          0.010203659534454346,
          0.03330790996551514,
          0.00042897462844848633,
          0.004469931125640869,
          0.1932278275489807,
          0.001965463161468506,
          0.00022858381271362305,
          0.908592939376831,
          0.02452397346496582,
          0.00023931264877319336,
          0.4249345064163208,
          0.0002803206443786621,
          0.9943422079086304,
          0.03158390522003174,
          0.9786810278892517,
          0.005779266357421875,
          0.0007663965225219727,
          0.006294906139373779,
          0.0001678466796875,
          0.0018873214721679688,
          0.008329153060913086,
          0.0005921125411987305,
          0.004436373710632324,
          0.010650217533111572,
          0.9963855743408203,
          0.0002910494804382324,
          0.0038192272186279297,
          0.9994654059410095,
          0.05928844213485718,
          0.0001653432846069336,
          0.0005573630332946777,
          0.0005785226821899414,
          0.00019353628158569336,
          0.9827859997749329,
          0.9171218276023865,
          0.9212535619735718,
          0.9946449995040894,
          0.4838813543319702,
          0.9919244647026062,
          0.010182321071624756,
          0.643994152545929,
          0.9992659687995911,
          0.0002422928810119629,
          0.7702118158340454,
          0.00020712614059448242,
          0.0012187361717224121,
          0.9832082390785217,
          0.9983421564102173,
          0.009656786918640137,
          0.07899332046508789,
          0.019352614879608154,
          0.002062559127807617,
          0.9771878123283386,
          0.08693772554397583,
          0.0029574036598205566,
          0.016781270503997803,
          0.998267650604248,
          0.00407034158706665,
          0.0007685422897338867,
          0.9199442267417908,
          0.021992266178131104,
          0.7487877607345581,
          0.030775368213653564,
          0.0015982985496520996,
          0.9996527433395386,
          0.0002713799476623535,
          0.062137722969055176,
          0.08209377527236938,
          0.999152660369873,
          0.9460651278495789,
          0.9510592818260193
         ],
         "xaxis": "x",
         "y": [
          2,
          3,
          4,
          5,
          7,
          10,
          12,
          14,
          15,
          20,
          22,
          24,
          25,
          26,
          27,
          28,
          30,
          31,
          32,
          35,
          36,
          37,
          39,
          41,
          43,
          44,
          46,
          51,
          52,
          53,
          55,
          57,
          60,
          67,
          68,
          70,
          73,
          74,
          75,
          76,
          79,
          84,
          85,
          86,
          88,
          91,
          97,
          98,
          99,
          100,
          103,
          105,
          108,
          109,
          110,
          111,
          113,
          115,
          116,
          117,
          118,
          119,
          120,
          121,
          123,
          124,
          125,
          126,
          127,
          128,
          130,
          131,
          132,
          133,
          134,
          135,
          138,
          139,
          140,
          141,
          142,
          145,
          146,
          148,
          149,
          150,
          151,
          152,
          154,
          157,
          158,
          161,
          162,
          163,
          167,
          168,
          169,
          172,
          173,
          174,
          176,
          177,
          179,
          184,
          186,
          187,
          190,
          192,
          193,
          194,
          198
         ],
         "yaxis": "y"
        }
       ],
       "layout": {
        "legend": {
         "title": {
          "text": "truth"
         },
         "tracegroupgap": 0
        },
        "margin": {
         "t": 60
        },
        "template": {
         "data": {
          "bar": [
           {
            "error_x": {
             "color": "#2a3f5f"
            },
            "error_y": {
             "color": "#2a3f5f"
            },
            "marker": {
             "line": {
              "color": "#E5ECF6",
              "width": 0.5
             },
             "pattern": {
              "fillmode": "overlay",
              "size": 10,
              "solidity": 0.2
             }
            },
            "type": "bar"
           }
          ],
          "barpolar": [
           {
            "marker": {
             "line": {
              "color": "#E5ECF6",
              "width": 0.5
             },
             "pattern": {
              "fillmode": "overlay",
              "size": 10,
              "solidity": 0.2
             }
            },
            "type": "barpolar"
           }
          ],
          "carpet": [
           {
            "aaxis": {
             "endlinecolor": "#2a3f5f",
             "gridcolor": "white",
             "linecolor": "white",
             "minorgridcolor": "white",
             "startlinecolor": "#2a3f5f"
            },
            "baxis": {
             "endlinecolor": "#2a3f5f",
             "gridcolor": "white",
             "linecolor": "white",
             "minorgridcolor": "white",
             "startlinecolor": "#2a3f5f"
            },
            "type": "carpet"
           }
          ],
          "choropleth": [
           {
            "colorbar": {
             "outlinewidth": 0,
             "ticks": ""
            },
            "type": "choropleth"
           }
          ],
          "contour": [
           {
            "colorbar": {
             "outlinewidth": 0,
             "ticks": ""
            },
            "colorscale": [
             [
              0,
              "#0d0887"
             ],
             [
              0.1111111111111111,
              "#46039f"
             ],
             [
              0.2222222222222222,
              "#7201a8"
             ],
             [
              0.3333333333333333,
              "#9c179e"
             ],
             [
              0.4444444444444444,
              "#bd3786"
             ],
             [
              0.5555555555555556,
              "#d8576b"
             ],
             [
              0.6666666666666666,
              "#ed7953"
             ],
             [
              0.7777777777777778,
              "#fb9f3a"
             ],
             [
              0.8888888888888888,
              "#fdca26"
             ],
             [
              1,
              "#f0f921"
             ]
            ],
            "type": "contour"
           }
          ],
          "contourcarpet": [
           {
            "colorbar": {
             "outlinewidth": 0,
             "ticks": ""
            },
            "type": "contourcarpet"
           }
          ],
          "heatmap": [
           {
            "colorbar": {
             "outlinewidth": 0,
             "ticks": ""
            },
            "colorscale": [
             [
              0,
              "#0d0887"
             ],
             [
              0.1111111111111111,
              "#46039f"
             ],
             [
              0.2222222222222222,
              "#7201a8"
             ],
             [
              0.3333333333333333,
              "#9c179e"
             ],
             [
              0.4444444444444444,
              "#bd3786"
             ],
             [
              0.5555555555555556,
              "#d8576b"
             ],
             [
              0.6666666666666666,
              "#ed7953"
             ],
             [
              0.7777777777777778,
              "#fb9f3a"
             ],
             [
              0.8888888888888888,
              "#fdca26"
             ],
             [
              1,
              "#f0f921"
             ]
            ],
            "type": "heatmap"
           }
          ],
          "heatmapgl": [
           {
            "colorbar": {
             "outlinewidth": 0,
             "ticks": ""
            },
            "colorscale": [
             [
              0,
              "#0d0887"
             ],
             [
              0.1111111111111111,
              "#46039f"
             ],
             [
              0.2222222222222222,
              "#7201a8"
             ],
             [
              0.3333333333333333,
              "#9c179e"
             ],
             [
              0.4444444444444444,
              "#bd3786"
             ],
             [
              0.5555555555555556,
              "#d8576b"
             ],
             [
              0.6666666666666666,
              "#ed7953"
             ],
             [
              0.7777777777777778,
              "#fb9f3a"
             ],
             [
              0.8888888888888888,
              "#fdca26"
             ],
             [
              1,
              "#f0f921"
             ]
            ],
            "type": "heatmapgl"
           }
          ],
          "histogram": [
           {
            "marker": {
             "pattern": {
              "fillmode": "overlay",
              "size": 10,
              "solidity": 0.2
             }
            },
            "type": "histogram"
           }
          ],
          "histogram2d": [
           {
            "colorbar": {
             "outlinewidth": 0,
             "ticks": ""
            },
            "colorscale": [
             [
              0,
              "#0d0887"
             ],
             [
              0.1111111111111111,
              "#46039f"
             ],
             [
              0.2222222222222222,
              "#7201a8"
             ],
             [
              0.3333333333333333,
              "#9c179e"
             ],
             [
              0.4444444444444444,
              "#bd3786"
             ],
             [
              0.5555555555555556,
              "#d8576b"
             ],
             [
              0.6666666666666666,
              "#ed7953"
             ],
             [
              0.7777777777777778,
              "#fb9f3a"
             ],
             [
              0.8888888888888888,
              "#fdca26"
             ],
             [
              1,
              "#f0f921"
             ]
            ],
            "type": "histogram2d"
           }
          ],
          "histogram2dcontour": [
           {
            "colorbar": {
             "outlinewidth": 0,
             "ticks": ""
            },
            "colorscale": [
             [
              0,
              "#0d0887"
             ],
             [
              0.1111111111111111,
              "#46039f"
             ],
             [
              0.2222222222222222,
              "#7201a8"
             ],
             [
              0.3333333333333333,
              "#9c179e"
             ],
             [
              0.4444444444444444,
              "#bd3786"
             ],
             [
              0.5555555555555556,
              "#d8576b"
             ],
             [
              0.6666666666666666,
              "#ed7953"
             ],
             [
              0.7777777777777778,
              "#fb9f3a"
             ],
             [
              0.8888888888888888,
              "#fdca26"
             ],
             [
              1,
              "#f0f921"
             ]
            ],
            "type": "histogram2dcontour"
           }
          ],
          "mesh3d": [
           {
            "colorbar": {
             "outlinewidth": 0,
             "ticks": ""
            },
            "type": "mesh3d"
           }
          ],
          "parcoords": [
           {
            "line": {
             "colorbar": {
              "outlinewidth": 0,
              "ticks": ""
             }
            },
            "type": "parcoords"
           }
          ],
          "pie": [
           {
            "automargin": true,
            "type": "pie"
           }
          ],
          "scatter": [
           {
            "fillpattern": {
             "fillmode": "overlay",
             "size": 10,
             "solidity": 0.2
            },
            "type": "scatter"
           }
          ],
          "scatter3d": [
           {
            "line": {
             "colorbar": {
              "outlinewidth": 0,
              "ticks": ""
             }
            },
            "marker": {
             "colorbar": {
              "outlinewidth": 0,
              "ticks": ""
             }
            },
            "type": "scatter3d"
           }
          ],
          "scattercarpet": [
           {
            "marker": {
             "colorbar": {
              "outlinewidth": 0,
              "ticks": ""
             }
            },
            "type": "scattercarpet"
           }
          ],
          "scattergeo": [
           {
            "marker": {
             "colorbar": {
              "outlinewidth": 0,
              "ticks": ""
             }
            },
            "type": "scattergeo"
           }
          ],
          "scattergl": [
           {
            "marker": {
             "colorbar": {
              "outlinewidth": 0,
              "ticks": ""
             }
            },
            "type": "scattergl"
           }
          ],
          "scattermapbox": [
           {
            "marker": {
             "colorbar": {
              "outlinewidth": 0,
              "ticks": ""
             }
            },
            "type": "scattermapbox"
           }
          ],
          "scatterpolar": [
           {
            "marker": {
             "colorbar": {
              "outlinewidth": 0,
              "ticks": ""
             }
            },
            "type": "scatterpolar"
           }
          ],
          "scatterpolargl": [
           {
            "marker": {
             "colorbar": {
              "outlinewidth": 0,
              "ticks": ""
             }
            },
            "type": "scatterpolargl"
           }
          ],
          "scatterternary": [
           {
            "marker": {
             "colorbar": {
              "outlinewidth": 0,
              "ticks": ""
             }
            },
            "type": "scatterternary"
           }
          ],
          "surface": [
           {
            "colorbar": {
             "outlinewidth": 0,
             "ticks": ""
            },
            "colorscale": [
             [
              0,
              "#0d0887"
             ],
             [
              0.1111111111111111,
              "#46039f"
             ],
             [
              0.2222222222222222,
              "#7201a8"
             ],
             [
              0.3333333333333333,
              "#9c179e"
             ],
             [
              0.4444444444444444,
              "#bd3786"
             ],
             [
              0.5555555555555556,
              "#d8576b"
             ],
             [
              0.6666666666666666,
              "#ed7953"
             ],
             [
              0.7777777777777778,
              "#fb9f3a"
             ],
             [
              0.8888888888888888,
              "#fdca26"
             ],
             [
              1,
              "#f0f921"
             ]
            ],
            "type": "surface"
           }
          ],
          "table": [
           {
            "cells": {
             "fill": {
              "color": "#EBF0F8"
             },
             "line": {
              "color": "white"
             }
            },
            "header": {
             "fill": {
              "color": "#C8D4E3"
             },
             "line": {
              "color": "white"
             }
            },
            "type": "table"
           }
          ]
         },
         "layout": {
          "annotationdefaults": {
           "arrowcolor": "#2a3f5f",
           "arrowhead": 0,
           "arrowwidth": 1
          },
          "autotypenumbers": "strict",
          "coloraxis": {
           "colorbar": {
            "outlinewidth": 0,
            "ticks": ""
           }
          },
          "colorscale": {
           "diverging": [
            [
             0,
             "#8e0152"
            ],
            [
             0.1,
             "#c51b7d"
            ],
            [
             0.2,
             "#de77ae"
            ],
            [
             0.3,
             "#f1b6da"
            ],
            [
             0.4,
             "#fde0ef"
            ],
            [
             0.5,
             "#f7f7f7"
            ],
            [
             0.6,
             "#e6f5d0"
            ],
            [
             0.7,
             "#b8e186"
            ],
            [
             0.8,
             "#7fbc41"
            ],
            [
             0.9,
             "#4d9221"
            ],
            [
             1,
             "#276419"
            ]
           ],
           "sequential": [
            [
             0,
             "#0d0887"
            ],
            [
             0.1111111111111111,
             "#46039f"
            ],
            [
             0.2222222222222222,
             "#7201a8"
            ],
            [
             0.3333333333333333,
             "#9c179e"
            ],
            [
             0.4444444444444444,
             "#bd3786"
            ],
            [
             0.5555555555555556,
             "#d8576b"
            ],
            [
             0.6666666666666666,
             "#ed7953"
            ],
            [
             0.7777777777777778,
             "#fb9f3a"
            ],
            [
             0.8888888888888888,
             "#fdca26"
            ],
            [
             1,
             "#f0f921"
            ]
           ],
           "sequentialminus": [
            [
             0,
             "#0d0887"
            ],
            [
             0.1111111111111111,
             "#46039f"
            ],
            [
             0.2222222222222222,
             "#7201a8"
            ],
            [
             0.3333333333333333,
             "#9c179e"
            ],
            [
             0.4444444444444444,
             "#bd3786"
            ],
            [
             0.5555555555555556,
             "#d8576b"
            ],
            [
             0.6666666666666666,
             "#ed7953"
            ],
            [
             0.7777777777777778,
             "#fb9f3a"
            ],
            [
             0.8888888888888888,
             "#fdca26"
            ],
            [
             1,
             "#f0f921"
            ]
           ]
          },
          "colorway": [
           "#636efa",
           "#EF553B",
           "#00cc96",
           "#ab63fa",
           "#FFA15A",
           "#19d3f3",
           "#FF6692",
           "#B6E880",
           "#FF97FF",
           "#FECB52"
          ],
          "font": {
           "color": "#2a3f5f"
          },
          "geo": {
           "bgcolor": "white",
           "lakecolor": "white",
           "landcolor": "#E5ECF6",
           "showlakes": true,
           "showland": true,
           "subunitcolor": "white"
          },
          "hoverlabel": {
           "align": "left"
          },
          "hovermode": "closest",
          "mapbox": {
           "style": "light"
          },
          "paper_bgcolor": "white",
          "plot_bgcolor": "#E5ECF6",
          "polar": {
           "angularaxis": {
            "gridcolor": "white",
            "linecolor": "white",
            "ticks": ""
           },
           "bgcolor": "#E5ECF6",
           "radialaxis": {
            "gridcolor": "white",
            "linecolor": "white",
            "ticks": ""
           }
          },
          "scene": {
           "xaxis": {
            "backgroundcolor": "#E5ECF6",
            "gridcolor": "white",
            "gridwidth": 2,
            "linecolor": "white",
            "showbackground": true,
            "ticks": "",
            "zerolinecolor": "white"
           },
           "yaxis": {
            "backgroundcolor": "#E5ECF6",
            "gridcolor": "white",
            "gridwidth": 2,
            "linecolor": "white",
            "showbackground": true,
            "ticks": "",
            "zerolinecolor": "white"
           },
           "zaxis": {
            "backgroundcolor": "#E5ECF6",
            "gridcolor": "white",
            "gridwidth": 2,
            "linecolor": "white",
            "showbackground": true,
            "ticks": "",
            "zerolinecolor": "white"
           }
          },
          "shapedefaults": {
           "line": {
            "color": "#2a3f5f"
           }
          },
          "ternary": {
           "aaxis": {
            "gridcolor": "white",
            "linecolor": "white",
            "ticks": ""
           },
           "baxis": {
            "gridcolor": "white",
            "linecolor": "white",
            "ticks": ""
           },
           "bgcolor": "#E5ECF6",
           "caxis": {
            "gridcolor": "white",
            "linecolor": "white",
            "ticks": ""
           }
          },
          "title": {
           "x": 0.05
          },
          "xaxis": {
           "automargin": true,
           "gridcolor": "white",
           "linecolor": "white",
           "ticks": "",
           "title": {
            "standoff": 15
           },
           "zerolinecolor": "white",
           "zerolinewidth": 2
          },
          "yaxis": {
           "automargin": true,
           "gridcolor": "white",
           "linecolor": "white",
           "ticks": "",
           "title": {
            "standoff": 15
           },
           "zerolinecolor": "white",
           "zerolinewidth": 2
          }
         }
        },
        "xaxis": {
         "anchor": "y",
         "domain": [
          0,
          1
         ],
         "title": {
          "text": "score"
         }
        },
        "yaxis": {
         "anchor": "x",
         "domain": [
          0,
          1
         ],
         "title": {
          "text": "index"
         }
        }
       }
      }
     },
     "metadata": {},
     "output_type": "display_data"
    }
   ],
   "source": [
    "px.scatter(df, x='score', hover_data=['wrapped_text'],color='truth')"
   ]
  },
  {
   "cell_type": "markdown",
   "metadata": {},
   "source": [
    "The model really likes to make extreme predictions. It's hard to give a quantitative estimate of the calibration because we have only binary label, adding the \"NEUTRAL\" or \"AMBIGUOUS\" class to the dataset might help mitigate this problem."
   ]
  },
  {
   "cell_type": "code",
   "execution_count": 18,
   "metadata": {},
   "outputs": [
    {
     "data": {
      "application/vnd.plotly.v1+json": {
       "config": {
        "plotlyServerURL": "https://plot.ly"
       },
       "data": [
        {
         "alignmentgroup": "True",
         "bingroup": "x",
         "hovertemplate": "score=%{x}<br>count=%{y}<extra></extra>",
         "legendgroup": "",
         "marker": {
          "color": "#636efa",
          "pattern": {
           "shape": ""
          }
         },
         "name": "",
         "nbinsx": 20,
         "offsetgroup": "",
         "orientation": "v",
         "showlegend": false,
         "type": "histogram",
         "x": [
          0.0013463497161865234,
          0.9995519518852234,
          0.9778768420219421,
          0.9986138343811035,
          0.9996030926704407,
          0.010448276996612549,
          0.9921497106552124,
          0.021626591682434082,
          0.0035262703895568848,
          0.5908256769180298,
          0.003377079963684082,
          0.33763444423675537,
          0.00017374753952026367,
          0.9978498220443726,
          0.4017893671989441,
          0.0025667548179626465,
          0.9943236112594604,
          0.992766261100769,
          0.9987130165100098,
          0.9838584065437317,
          0.0002868771553039551,
          0.992416501045227,
          0.5469262003898621,
          0.9914758205413818,
          0.9922866821289062,
          0.00015926361083984375,
          0.13731235265731812,
          0.0518457293510437,
          0.0004392266273498535,
          0.9991924166679382,
          0.9929445385932922,
          0.9959512948989868,
          0.9700625538825989,
          0.0004355311393737793,
          0.9963269829750061,
          0.03718143701553345,
          0.003720581531524658,
          0.7205643057823181,
          0.9959473013877869,
          0.9925671815872192,
          0.9985328912734985,
          0.9772102236747742,
          0.9709200263023376,
          0.004123568534851074,
          0.00495988130569458,
          0.9997883439064026,
          0.003445744514465332,
          0.9886152744293213,
          0.9975517392158508,
          0.9832469820976257,
          0.99955815076828,
          0.00019878149032592773,
          0.9938030242919922,
          0.021632254123687744,
          0.9852640628814697,
          0.013489186763763428,
          0.9955541491508484,
          0.9074024558067322,
          0.014238595962524414,
          0.9916108250617981,
          0.0016440749168395996,
          0.9997299313545227,
          0.9986487030982971,
          0.9996206760406494,
          0.9934023022651672,
          0.9993745684623718,
          0.9924994111061096,
          0.000674128532409668,
          0.015154600143432617,
          0.9988254904747009,
          0.0003758668899536133,
          0.9667745232582092,
          0.9754453897476196,
          0.0007088184356689453,
          0.019955933094024658,
          0.0019463300704956055,
          0.0007899999618530273,
          0.999645471572876,
          0.9958741068840027,
          0.010203659534454346,
          0.9416186213493347,
          0.996594250202179,
          0.9996417760848999,
          0.9951150417327881,
          0.03330790996551514,
          0.00042897462844848633,
          0.004469931125640869,
          0.99489426612854,
          0.1932278275489807,
          0.9882864356040955,
          0.005071401596069336,
          0.001965463161468506,
          0.9990990161895752,
          0.002408742904663086,
          0.9987834095954895,
          0.9994494318962097,
          0.9997411370277405,
          0.00022858381271362305,
          0.908592939376831,
          0.02452397346496582,
          0.00023931264877319336,
          0.9995261430740356,
          0.0371091365814209,
          0.4249345064163208,
          0.8183808326721191,
          0.0002803206443786621,
          0.9890695214271545,
          0.9888479709625244,
          0.9943422079086304,
          0.03158390522003174,
          0.9786810278892517,
          0.005779266357421875,
          0.9994117021560669,
          0.0007663965225219727,
          0.9996241331100464,
          0.006294906139373779,
          0.0001678466796875,
          0.0018873214721679688,
          0.008329153060913086,
          0.0005921125411987305,
          0.004436373710632324,
          0.010650217533111572,
          0.9942166805267334,
          0.9963855743408203,
          0.0002910494804382324,
          0.0038192272186279297,
          0.9994654059410095,
          0.05928844213485718,
          0.0001653432846069336,
          0.9993878602981567,
          0.0005573630332946777,
          0.0005785226821899414,
          0.00019353628158569336,
          0.9827859997749329,
          0.9171218276023865,
          0.9212535619735718,
          0.9992122650146484,
          0.7752429246902466,
          0.9946449995040894,
          0.4838813543319702,
          0.9919244647026062,
          0.010182321071624756,
          0.643994152545929,
          0.9983093738555908,
          0.9995067119598389,
          0.9992659687995911,
          0.0002422928810119629,
          0.9964144229888916,
          0.7702118158340454,
          0.00020712614059448242,
          0.0012187361717224121,
          0.9832082390785217,
          0.9983421564102173,
          0.9994895458221436,
          0.009656786918640137,
          0.9996267557144165,
          0.26959091424942017,
          0.07899332046508789,
          0.019352614879608154,
          0.9880992770195007,
          0.9997052550315857,
          0.002062559127807617,
          0.9771878123283386,
          0.08693772554397583,
          0.9956271648406982,
          0.9865097403526306,
          0.9979159235954285,
          0.0029574036598205566,
          0.016781270503997803,
          0.998267650604248,
          0.9933231472969055,
          0.9914051294326782,
          0.00407034158706665,
          0.0007685422897338867,
          0.9199442267417908,
          0.9969903230667114,
          0.021992266178131104,
          0.7487877607345581,
          0.004408419132232666,
          0.030775368213653564,
          0.9247162938117981,
          0.9933045506477356,
          0.9929153919219971,
          0.0007120966911315918,
          0.0015982985496520996,
          0.9997225403785706,
          0.9996527433395386,
          0.0002713799476623535,
          0.9970732927322388,
          0.9996951818466187,
          0.062137722969055176,
          0.03201091289520264,
          0.08209377527236938,
          0.999152660369873,
          0.9460651278495789,
          0.9842454791069031,
          0.9850871562957764,
          0.00024896860122680664,
          0.9510592818260193,
          0.9996100068092346
         ],
         "xaxis": "x",
         "yaxis": "y"
        }
       ],
       "layout": {
        "barmode": "relative",
        "legend": {
         "tracegroupgap": 0
        },
        "margin": {
         "t": 60
        },
        "template": {
         "data": {
          "bar": [
           {
            "error_x": {
             "color": "#2a3f5f"
            },
            "error_y": {
             "color": "#2a3f5f"
            },
            "marker": {
             "line": {
              "color": "#E5ECF6",
              "width": 0.5
             },
             "pattern": {
              "fillmode": "overlay",
              "size": 10,
              "solidity": 0.2
             }
            },
            "type": "bar"
           }
          ],
          "barpolar": [
           {
            "marker": {
             "line": {
              "color": "#E5ECF6",
              "width": 0.5
             },
             "pattern": {
              "fillmode": "overlay",
              "size": 10,
              "solidity": 0.2
             }
            },
            "type": "barpolar"
           }
          ],
          "carpet": [
           {
            "aaxis": {
             "endlinecolor": "#2a3f5f",
             "gridcolor": "white",
             "linecolor": "white",
             "minorgridcolor": "white",
             "startlinecolor": "#2a3f5f"
            },
            "baxis": {
             "endlinecolor": "#2a3f5f",
             "gridcolor": "white",
             "linecolor": "white",
             "minorgridcolor": "white",
             "startlinecolor": "#2a3f5f"
            },
            "type": "carpet"
           }
          ],
          "choropleth": [
           {
            "colorbar": {
             "outlinewidth": 0,
             "ticks": ""
            },
            "type": "choropleth"
           }
          ],
          "contour": [
           {
            "colorbar": {
             "outlinewidth": 0,
             "ticks": ""
            },
            "colorscale": [
             [
              0,
              "#0d0887"
             ],
             [
              0.1111111111111111,
              "#46039f"
             ],
             [
              0.2222222222222222,
              "#7201a8"
             ],
             [
              0.3333333333333333,
              "#9c179e"
             ],
             [
              0.4444444444444444,
              "#bd3786"
             ],
             [
              0.5555555555555556,
              "#d8576b"
             ],
             [
              0.6666666666666666,
              "#ed7953"
             ],
             [
              0.7777777777777778,
              "#fb9f3a"
             ],
             [
              0.8888888888888888,
              "#fdca26"
             ],
             [
              1,
              "#f0f921"
             ]
            ],
            "type": "contour"
           }
          ],
          "contourcarpet": [
           {
            "colorbar": {
             "outlinewidth": 0,
             "ticks": ""
            },
            "type": "contourcarpet"
           }
          ],
          "heatmap": [
           {
            "colorbar": {
             "outlinewidth": 0,
             "ticks": ""
            },
            "colorscale": [
             [
              0,
              "#0d0887"
             ],
             [
              0.1111111111111111,
              "#46039f"
             ],
             [
              0.2222222222222222,
              "#7201a8"
             ],
             [
              0.3333333333333333,
              "#9c179e"
             ],
             [
              0.4444444444444444,
              "#bd3786"
             ],
             [
              0.5555555555555556,
              "#d8576b"
             ],
             [
              0.6666666666666666,
              "#ed7953"
             ],
             [
              0.7777777777777778,
              "#fb9f3a"
             ],
             [
              0.8888888888888888,
              "#fdca26"
             ],
             [
              1,
              "#f0f921"
             ]
            ],
            "type": "heatmap"
           }
          ],
          "heatmapgl": [
           {
            "colorbar": {
             "outlinewidth": 0,
             "ticks": ""
            },
            "colorscale": [
             [
              0,
              "#0d0887"
             ],
             [
              0.1111111111111111,
              "#46039f"
             ],
             [
              0.2222222222222222,
              "#7201a8"
             ],
             [
              0.3333333333333333,
              "#9c179e"
             ],
             [
              0.4444444444444444,
              "#bd3786"
             ],
             [
              0.5555555555555556,
              "#d8576b"
             ],
             [
              0.6666666666666666,
              "#ed7953"
             ],
             [
              0.7777777777777778,
              "#fb9f3a"
             ],
             [
              0.8888888888888888,
              "#fdca26"
             ],
             [
              1,
              "#f0f921"
             ]
            ],
            "type": "heatmapgl"
           }
          ],
          "histogram": [
           {
            "marker": {
             "pattern": {
              "fillmode": "overlay",
              "size": 10,
              "solidity": 0.2
             }
            },
            "type": "histogram"
           }
          ],
          "histogram2d": [
           {
            "colorbar": {
             "outlinewidth": 0,
             "ticks": ""
            },
            "colorscale": [
             [
              0,
              "#0d0887"
             ],
             [
              0.1111111111111111,
              "#46039f"
             ],
             [
              0.2222222222222222,
              "#7201a8"
             ],
             [
              0.3333333333333333,
              "#9c179e"
             ],
             [
              0.4444444444444444,
              "#bd3786"
             ],
             [
              0.5555555555555556,
              "#d8576b"
             ],
             [
              0.6666666666666666,
              "#ed7953"
             ],
             [
              0.7777777777777778,
              "#fb9f3a"
             ],
             [
              0.8888888888888888,
              "#fdca26"
             ],
             [
              1,
              "#f0f921"
             ]
            ],
            "type": "histogram2d"
           }
          ],
          "histogram2dcontour": [
           {
            "colorbar": {
             "outlinewidth": 0,
             "ticks": ""
            },
            "colorscale": [
             [
              0,
              "#0d0887"
             ],
             [
              0.1111111111111111,
              "#46039f"
             ],
             [
              0.2222222222222222,
              "#7201a8"
             ],
             [
              0.3333333333333333,
              "#9c179e"
             ],
             [
              0.4444444444444444,
              "#bd3786"
             ],
             [
              0.5555555555555556,
              "#d8576b"
             ],
             [
              0.6666666666666666,
              "#ed7953"
             ],
             [
              0.7777777777777778,
              "#fb9f3a"
             ],
             [
              0.8888888888888888,
              "#fdca26"
             ],
             [
              1,
              "#f0f921"
             ]
            ],
            "type": "histogram2dcontour"
           }
          ],
          "mesh3d": [
           {
            "colorbar": {
             "outlinewidth": 0,
             "ticks": ""
            },
            "type": "mesh3d"
           }
          ],
          "parcoords": [
           {
            "line": {
             "colorbar": {
              "outlinewidth": 0,
              "ticks": ""
             }
            },
            "type": "parcoords"
           }
          ],
          "pie": [
           {
            "automargin": true,
            "type": "pie"
           }
          ],
          "scatter": [
           {
            "fillpattern": {
             "fillmode": "overlay",
             "size": 10,
             "solidity": 0.2
            },
            "type": "scatter"
           }
          ],
          "scatter3d": [
           {
            "line": {
             "colorbar": {
              "outlinewidth": 0,
              "ticks": ""
             }
            },
            "marker": {
             "colorbar": {
              "outlinewidth": 0,
              "ticks": ""
             }
            },
            "type": "scatter3d"
           }
          ],
          "scattercarpet": [
           {
            "marker": {
             "colorbar": {
              "outlinewidth": 0,
              "ticks": ""
             }
            },
            "type": "scattercarpet"
           }
          ],
          "scattergeo": [
           {
            "marker": {
             "colorbar": {
              "outlinewidth": 0,
              "ticks": ""
             }
            },
            "type": "scattergeo"
           }
          ],
          "scattergl": [
           {
            "marker": {
             "colorbar": {
              "outlinewidth": 0,
              "ticks": ""
             }
            },
            "type": "scattergl"
           }
          ],
          "scattermapbox": [
           {
            "marker": {
             "colorbar": {
              "outlinewidth": 0,
              "ticks": ""
             }
            },
            "type": "scattermapbox"
           }
          ],
          "scatterpolar": [
           {
            "marker": {
             "colorbar": {
              "outlinewidth": 0,
              "ticks": ""
             }
            },
            "type": "scatterpolar"
           }
          ],
          "scatterpolargl": [
           {
            "marker": {
             "colorbar": {
              "outlinewidth": 0,
              "ticks": ""
             }
            },
            "type": "scatterpolargl"
           }
          ],
          "scatterternary": [
           {
            "marker": {
             "colorbar": {
              "outlinewidth": 0,
              "ticks": ""
             }
            },
            "type": "scatterternary"
           }
          ],
          "surface": [
           {
            "colorbar": {
             "outlinewidth": 0,
             "ticks": ""
            },
            "colorscale": [
             [
              0,
              "#0d0887"
             ],
             [
              0.1111111111111111,
              "#46039f"
             ],
             [
              0.2222222222222222,
              "#7201a8"
             ],
             [
              0.3333333333333333,
              "#9c179e"
             ],
             [
              0.4444444444444444,
              "#bd3786"
             ],
             [
              0.5555555555555556,
              "#d8576b"
             ],
             [
              0.6666666666666666,
              "#ed7953"
             ],
             [
              0.7777777777777778,
              "#fb9f3a"
             ],
             [
              0.8888888888888888,
              "#fdca26"
             ],
             [
              1,
              "#f0f921"
             ]
            ],
            "type": "surface"
           }
          ],
          "table": [
           {
            "cells": {
             "fill": {
              "color": "#EBF0F8"
             },
             "line": {
              "color": "white"
             }
            },
            "header": {
             "fill": {
              "color": "#C8D4E3"
             },
             "line": {
              "color": "white"
             }
            },
            "type": "table"
           }
          ]
         },
         "layout": {
          "annotationdefaults": {
           "arrowcolor": "#2a3f5f",
           "arrowhead": 0,
           "arrowwidth": 1
          },
          "autotypenumbers": "strict",
          "coloraxis": {
           "colorbar": {
            "outlinewidth": 0,
            "ticks": ""
           }
          },
          "colorscale": {
           "diverging": [
            [
             0,
             "#8e0152"
            ],
            [
             0.1,
             "#c51b7d"
            ],
            [
             0.2,
             "#de77ae"
            ],
            [
             0.3,
             "#f1b6da"
            ],
            [
             0.4,
             "#fde0ef"
            ],
            [
             0.5,
             "#f7f7f7"
            ],
            [
             0.6,
             "#e6f5d0"
            ],
            [
             0.7,
             "#b8e186"
            ],
            [
             0.8,
             "#7fbc41"
            ],
            [
             0.9,
             "#4d9221"
            ],
            [
             1,
             "#276419"
            ]
           ],
           "sequential": [
            [
             0,
             "#0d0887"
            ],
            [
             0.1111111111111111,
             "#46039f"
            ],
            [
             0.2222222222222222,
             "#7201a8"
            ],
            [
             0.3333333333333333,
             "#9c179e"
            ],
            [
             0.4444444444444444,
             "#bd3786"
            ],
            [
             0.5555555555555556,
             "#d8576b"
            ],
            [
             0.6666666666666666,
             "#ed7953"
            ],
            [
             0.7777777777777778,
             "#fb9f3a"
            ],
            [
             0.8888888888888888,
             "#fdca26"
            ],
            [
             1,
             "#f0f921"
            ]
           ],
           "sequentialminus": [
            [
             0,
             "#0d0887"
            ],
            [
             0.1111111111111111,
             "#46039f"
            ],
            [
             0.2222222222222222,
             "#7201a8"
            ],
            [
             0.3333333333333333,
             "#9c179e"
            ],
            [
             0.4444444444444444,
             "#bd3786"
            ],
            [
             0.5555555555555556,
             "#d8576b"
            ],
            [
             0.6666666666666666,
             "#ed7953"
            ],
            [
             0.7777777777777778,
             "#fb9f3a"
            ],
            [
             0.8888888888888888,
             "#fdca26"
            ],
            [
             1,
             "#f0f921"
            ]
           ]
          },
          "colorway": [
           "#636efa",
           "#EF553B",
           "#00cc96",
           "#ab63fa",
           "#FFA15A",
           "#19d3f3",
           "#FF6692",
           "#B6E880",
           "#FF97FF",
           "#FECB52"
          ],
          "font": {
           "color": "#2a3f5f"
          },
          "geo": {
           "bgcolor": "white",
           "lakecolor": "white",
           "landcolor": "#E5ECF6",
           "showlakes": true,
           "showland": true,
           "subunitcolor": "white"
          },
          "hoverlabel": {
           "align": "left"
          },
          "hovermode": "closest",
          "mapbox": {
           "style": "light"
          },
          "paper_bgcolor": "white",
          "plot_bgcolor": "#E5ECF6",
          "polar": {
           "angularaxis": {
            "gridcolor": "white",
            "linecolor": "white",
            "ticks": ""
           },
           "bgcolor": "#E5ECF6",
           "radialaxis": {
            "gridcolor": "white",
            "linecolor": "white",
            "ticks": ""
           }
          },
          "scene": {
           "xaxis": {
            "backgroundcolor": "#E5ECF6",
            "gridcolor": "white",
            "gridwidth": 2,
            "linecolor": "white",
            "showbackground": true,
            "ticks": "",
            "zerolinecolor": "white"
           },
           "yaxis": {
            "backgroundcolor": "#E5ECF6",
            "gridcolor": "white",
            "gridwidth": 2,
            "linecolor": "white",
            "showbackground": true,
            "ticks": "",
            "zerolinecolor": "white"
           },
           "zaxis": {
            "backgroundcolor": "#E5ECF6",
            "gridcolor": "white",
            "gridwidth": 2,
            "linecolor": "white",
            "showbackground": true,
            "ticks": "",
            "zerolinecolor": "white"
           }
          },
          "shapedefaults": {
           "line": {
            "color": "#2a3f5f"
           }
          },
          "ternary": {
           "aaxis": {
            "gridcolor": "white",
            "linecolor": "white",
            "ticks": ""
           },
           "baxis": {
            "gridcolor": "white",
            "linecolor": "white",
            "ticks": ""
           },
           "bgcolor": "#E5ECF6",
           "caxis": {
            "gridcolor": "white",
            "linecolor": "white",
            "ticks": ""
           }
          },
          "title": {
           "x": 0.05
          },
          "xaxis": {
           "automargin": true,
           "gridcolor": "white",
           "linecolor": "white",
           "ticks": "",
           "title": {
            "standoff": 15
           },
           "zerolinecolor": "white",
           "zerolinewidth": 2
          },
          "yaxis": {
           "automargin": true,
           "gridcolor": "white",
           "linecolor": "white",
           "ticks": "",
           "title": {
            "standoff": 15
           },
           "zerolinecolor": "white",
           "zerolinewidth": 2
          }
         }
        },
        "xaxis": {
         "anchor": "y",
         "domain": [
          0,
          1
         ],
         "title": {
          "text": "score"
         }
        },
        "yaxis": {
         "anchor": "x",
         "domain": [
          0,
          1
         ],
         "title": {
          "text": "count"
         }
        }
       }
      }
     },
     "metadata": {},
     "output_type": "display_data"
    }
   ],
   "source": [
    "px.histogram(df,x='score',nbins=20)"
   ]
  },
  {
   "cell_type": "code",
   "execution_count": null,
   "metadata": {},
   "outputs": [],
   "source": []
  }
 ],
 "metadata": {
  "kernelspec": {
   "display_name": ".venv",
   "language": "python",
   "name": "python3"
  },
  "language_info": {
   "codemirror_mode": {
    "name": "ipython",
    "version": 3
   },
   "file_extension": ".py",
   "mimetype": "text/x-python",
   "name": "python",
   "nbconvert_exporter": "python",
   "pygments_lexer": "ipython3",
   "version": "3.12.8"
  }
 },
 "nbformat": 4,
 "nbformat_minor": 2
}
