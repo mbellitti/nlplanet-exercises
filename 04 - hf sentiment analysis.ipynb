{
 "cells": [
  {
   "cell_type": "code",
   "execution_count": 64,
   "metadata": {},
   "outputs": [],
   "source": [
    "from transformers import pipeline\n",
    "from datasets import load_dataset\n",
    "from tqdm import tqdm\n",
    "import pandas as pd\n",
    "import plotly.express as px\n",
    "import textwrap"
   ]
  },
  {
   "cell_type": "markdown",
   "metadata": {},
   "source": [
    "In this notebook I'll showcase basic sentiment analysis on tweets using the Huggingface's `Pipeline` interface."
   ]
  },
  {
   "cell_type": "code",
   "execution_count": 83,
   "metadata": {},
   "outputs": [
    {
     "name": "stderr",
     "output_type": "stream",
     "text": [
      "Device set to use cuda:0\n"
     ]
    }
   ],
   "source": [
    "classifier = pipeline(task=\"sentiment-analysis\",model='distilbert/distilbert-base-uncased-finetuned-sst-2-english')"
   ]
  },
  {
   "cell_type": "markdown",
   "metadata": {},
   "source": [
    "Let's load a few tweets and classify them"
   ]
  },
  {
   "cell_type": "code",
   "execution_count": 84,
   "metadata": {},
   "outputs": [],
   "source": [
    "dataset = load_dataset(\"carblacac/twitter-sentiment-analysis\", split=\"test\")"
   ]
  },
  {
   "cell_type": "code",
   "execution_count": 85,
   "metadata": {},
   "outputs": [],
   "source": [
    "inputs = dataset['text'][:200]\n",
    "truth = dataset['feeling'][:200]"
   ]
  },
  {
   "cell_type": "code",
   "execution_count": 86,
   "metadata": {},
   "outputs": [],
   "source": [
    "answers = classifier(inputs)"
   ]
  },
  {
   "cell_type": "code",
   "execution_count": 88,
   "metadata": {},
   "outputs": [],
   "source": [
    "df = pd.DataFrame([inputs,truth,answers]).T.rename(columns={0:'text',1:'truth',2:'output'})\n",
    "df['truth'] = df['truth'].replace({0:'NEGATIVE',1:'POSITIVE'})"
   ]
  },
  {
   "cell_type": "code",
   "execution_count": 94,
   "metadata": {},
   "outputs": [
    {
     "data": {
      "text/html": [
       "<div>\n",
       "<style scoped>\n",
       "    .dataframe tbody tr th:only-of-type {\n",
       "        vertical-align: middle;\n",
       "    }\n",
       "\n",
       "    .dataframe tbody tr th {\n",
       "        vertical-align: top;\n",
       "    }\n",
       "\n",
       "    .dataframe thead th {\n",
       "        text-align: right;\n",
       "    }\n",
       "</style>\n",
       "<table border=\"1\" class=\"dataframe\">\n",
       "  <thead>\n",
       "    <tr style=\"text-align: right;\">\n",
       "      <th></th>\n",
       "      <th>text</th>\n",
       "      <th>truth</th>\n",
       "      <th>output</th>\n",
       "      <th>sentiment</th>\n",
       "      <th>score</th>\n",
       "      <th>wrapped_text</th>\n",
       "    </tr>\n",
       "  </thead>\n",
       "  <tbody>\n",
       "    <tr>\n",
       "      <th>0</th>\n",
       "      <td>@justineville ...yeahhh. ) i'm 39 tweets from ...</td>\n",
       "      <td>POSITIVE</td>\n",
       "      <td>{'label': 'NEGATIVE', 'score': 0.9856041669845...</td>\n",
       "      <td>NEGATIVE</td>\n",
       "      <td>0.985604</td>\n",
       "      <td>@justineville ...yeahhh. ) i'm 39 tweets from&lt;...</td>\n",
       "    </tr>\n",
       "    <tr>\n",
       "      <th>1</th>\n",
       "      <td>@ApplesnFeathers aww. Poor baby! On your only ...</td>\n",
       "      <td>NEGATIVE</td>\n",
       "      <td>{'label': 'NEGATIVE', 'score': 0.9975548386573...</td>\n",
       "      <td>NEGATIVE</td>\n",
       "      <td>0.997555</td>\n",
       "      <td>@ApplesnFeathers aww. Poor baby! On your only ...</td>\n",
       "    </tr>\n",
       "    <tr>\n",
       "      <th>2</th>\n",
       "      <td>@joeymcintyre With my refunded $225 (Australia...</td>\n",
       "      <td>NEGATIVE</td>\n",
       "      <td>{'label': 'NEGATIVE', 'score': 0.7486612200737}</td>\n",
       "      <td>NEGATIVE</td>\n",
       "      <td>0.748661</td>\n",
       "      <td>@joeymcintyre With my refunded $225 (Australia...</td>\n",
       "    </tr>\n",
       "    <tr>\n",
       "      <th>3</th>\n",
       "      <td>It's fine. Today sucks just because me those t...</td>\n",
       "      <td>NEGATIVE</td>\n",
       "      <td>{'label': 'POSITIVE', 'score': 0.9985688924789...</td>\n",
       "      <td>POSITIVE</td>\n",
       "      <td>0.001431</td>\n",
       "      <td>It's fine. Today sucks just because me those&lt;b...</td>\n",
       "    </tr>\n",
       "    <tr>\n",
       "      <th>4</th>\n",
       "      <td>Im just chilling on psp and stuff, but sitting...</td>\n",
       "      <td>NEGATIVE</td>\n",
       "      <td>{'label': 'NEGATIVE', 'score': 0.9953784942626...</td>\n",
       "      <td>NEGATIVE</td>\n",
       "      <td>0.995378</td>\n",
       "      <td>Im just chilling on psp and stuff, but sitting...</td>\n",
       "    </tr>\n",
       "    <tr>\n",
       "      <th>...</th>\n",
       "      <td>...</td>\n",
       "      <td>...</td>\n",
       "      <td>...</td>\n",
       "      <td>...</td>\n",
       "      <td>...</td>\n",
       "      <td>...</td>\n",
       "    </tr>\n",
       "    <tr>\n",
       "      <th>195</th>\n",
       "      <td>my bloodsugar is low  but im late for class..s...</td>\n",
       "      <td>NEGATIVE</td>\n",
       "      <td>{'label': 'NEGATIVE', 'score': 0.9951849579811...</td>\n",
       "      <td>NEGATIVE</td>\n",
       "      <td>0.995185</td>\n",
       "      <td>my bloodsugar is low  but im late for class..s...</td>\n",
       "    </tr>\n",
       "    <tr>\n",
       "      <th>196</th>\n",
       "      <td>Homw from camping, laundry and dinner done.  T...</td>\n",
       "      <td>NEGATIVE</td>\n",
       "      <td>{'label': 'NEGATIVE', 'score': 0.9930850267410...</td>\n",
       "      <td>NEGATIVE</td>\n",
       "      <td>0.993085</td>\n",
       "      <td>Homw from camping, laundry and dinner done.  T...</td>\n",
       "    </tr>\n",
       "    <tr>\n",
       "      <th>197</th>\n",
       "      <td>@gilliganpierce Im sorry.  at least u dont hav...</td>\n",
       "      <td>NEGATIVE</td>\n",
       "      <td>{'label': 'NEGATIVE', 'score': 0.9988734126091...</td>\n",
       "      <td>NEGATIVE</td>\n",
       "      <td>0.998873</td>\n",
       "      <td>@gilliganpierce Im sorry.  at least u dont hav...</td>\n",
       "    </tr>\n",
       "    <tr>\n",
       "      <th>198</th>\n",
       "      <td>@tearsasmith I saw your men's sandal question....</td>\n",
       "      <td>POSITIVE</td>\n",
       "      <td>{'label': 'POSITIVE', 'score': 0.9949159622192...</td>\n",
       "      <td>POSITIVE</td>\n",
       "      <td>0.005084</td>\n",
       "      <td>@tearsasmith I saw your men's sandal question....</td>\n",
       "    </tr>\n",
       "    <tr>\n",
       "      <th>199</th>\n",
       "      <td>@CameronSummers why so sad?</td>\n",
       "      <td>NEGATIVE</td>\n",
       "      <td>{'label': 'NEGATIVE', 'score': 0.9991632699966...</td>\n",
       "      <td>NEGATIVE</td>\n",
       "      <td>0.999163</td>\n",
       "      <td>@CameronSummers why so sad?</td>\n",
       "    </tr>\n",
       "  </tbody>\n",
       "</table>\n",
       "<p>200 rows × 6 columns</p>\n",
       "</div>"
      ],
      "text/plain": [
       "                                                  text     truth  \\\n",
       "0    @justineville ...yeahhh. ) i'm 39 tweets from ...  POSITIVE   \n",
       "1    @ApplesnFeathers aww. Poor baby! On your only ...  NEGATIVE   \n",
       "2    @joeymcintyre With my refunded $225 (Australia...  NEGATIVE   \n",
       "3    It's fine. Today sucks just because me those t...  NEGATIVE   \n",
       "4    Im just chilling on psp and stuff, but sitting...  NEGATIVE   \n",
       "..                                                 ...       ...   \n",
       "195  my bloodsugar is low  but im late for class..s...  NEGATIVE   \n",
       "196  Homw from camping, laundry and dinner done.  T...  NEGATIVE   \n",
       "197  @gilliganpierce Im sorry.  at least u dont hav...  NEGATIVE   \n",
       "198  @tearsasmith I saw your men's sandal question....  POSITIVE   \n",
       "199                        @CameronSummers why so sad?  NEGATIVE   \n",
       "\n",
       "                                                output sentiment     score  \\\n",
       "0    {'label': 'NEGATIVE', 'score': 0.9856041669845...  NEGATIVE  0.985604   \n",
       "1    {'label': 'NEGATIVE', 'score': 0.9975548386573...  NEGATIVE  0.997555   \n",
       "2      {'label': 'NEGATIVE', 'score': 0.7486612200737}  NEGATIVE  0.748661   \n",
       "3    {'label': 'POSITIVE', 'score': 0.9985688924789...  POSITIVE  0.001431   \n",
       "4    {'label': 'NEGATIVE', 'score': 0.9953784942626...  NEGATIVE  0.995378   \n",
       "..                                                 ...       ...       ...   \n",
       "195  {'label': 'NEGATIVE', 'score': 0.9951849579811...  NEGATIVE  0.995185   \n",
       "196  {'label': 'NEGATIVE', 'score': 0.9930850267410...  NEGATIVE  0.993085   \n",
       "197  {'label': 'NEGATIVE', 'score': 0.9988734126091...  NEGATIVE  0.998873   \n",
       "198  {'label': 'POSITIVE', 'score': 0.9949159622192...  POSITIVE  0.005084   \n",
       "199  {'label': 'NEGATIVE', 'score': 0.9991632699966...  NEGATIVE  0.999163   \n",
       "\n",
       "                                          wrapped_text  \n",
       "0    @justineville ...yeahhh. ) i'm 39 tweets from<...  \n",
       "1    @ApplesnFeathers aww. Poor baby! On your only ...  \n",
       "2    @joeymcintyre With my refunded $225 (Australia...  \n",
       "3    It's fine. Today sucks just because me those<b...  \n",
       "4    Im just chilling on psp and stuff, but sitting...  \n",
       "..                                                 ...  \n",
       "195  my bloodsugar is low  but im late for class..s...  \n",
       "196  Homw from camping, laundry and dinner done.  T...  \n",
       "197  @gilliganpierce Im sorry.  at least u dont hav...  \n",
       "198  @tearsasmith I saw your men's sandal question....  \n",
       "199                        @CameronSummers why so sad?  \n",
       "\n",
       "[200 rows x 6 columns]"
      ]
     },
     "execution_count": 94,
     "metadata": {},
     "output_type": "execute_result"
    }
   ],
   "source": [
    "df['sentiment'] = df['output'].apply(lambda t: t['label'])\n",
    "df['score'] = df['output'].apply(lambda t: t['score'] if t['label'] == 'NEGATIVE' else 1-t['score'])\n",
    "df"
   ]
  },
  {
   "cell_type": "markdown",
   "metadata": {},
   "source": [
    "The tooltip in Plotly express does not wrap text, so we have to do it by hand to prevent it from being awkwardly cut in the visualization."
   ]
  },
  {
   "cell_type": "code",
   "execution_count": 95,
   "metadata": {},
   "outputs": [],
   "source": [
    "df['wrapped_text'] = df['text'].apply(lambda x: '<br>'.join(textwrap.wrap(x, width=50)))"
   ]
  },
  {
   "cell_type": "code",
   "execution_count": 109,
   "metadata": {},
   "outputs": [
    {
     "name": "stdout",
     "output_type": "stream",
     "text": [
      "              precision    recall  f1-score   support\n",
      "\n",
      "    NEGATIVE       0.65      0.85      0.74        98\n",
      "    POSITIVE       0.79      0.57      0.66       102\n",
      "\n",
      "    accuracy                           0.70       200\n",
      "   macro avg       0.72      0.71      0.70       200\n",
      "weighted avg       0.73      0.70      0.70       200\n",
      "\n"
     ]
    }
   ],
   "source": [
    "from sklearn.metrics import classification_report,ConfusionMatrixDisplay, confusion_matrix\n",
    "\n",
    "report = classification_report(df['truth'], df['sentiment'])\n",
    "print(report)"
   ]
  },
  {
   "cell_type": "markdown",
   "metadata": {},
   "source": [
    "It looks like model mostly performs well (F1=0.7), but it seems poorly calibrated: it predicts incorrectly with high confidence. For ambiguous cases (e.g. \"busy busy! getting ready for my open house!\") it should predict closer to 0.5. "
   ]
  },
  {
   "cell_type": "code",
   "execution_count": 96,
   "metadata": {},
   "outputs": [
    {
     "data": {
      "application/vnd.plotly.v1+json": {
       "config": {
        "plotlyServerURL": "https://plot.ly"
       },
       "data": [
        {
         "customdata": [
          [
           "@justineville ...yeahhh. ) i'm 39 tweets from<br>1,600!"
          ],
          [
           "@cly_lit Get 100 followers a day using<br>www.tweeteradder.com Once you add everyone you are<br>on the train or pay vip"
          ],
          [
           "Heading off to bed... Goodnight peeps"
          ],
          [
           "f#cking tired after footbal tournament! but 1<br>goal, two penalty stops, one penalty in the high<br>corner and a good free kick ..."
          ],
          [
           "With a boyfriend like mine......I feel like the<br>luckiest girl alive"
          ],
          [
           "@Wo0t LOL she said u would be mortified, before<br>magic mount. She called and they started talking"
          ],
          [
           "What a great weekend, even managed some swimming<br>in the (freezing!) ocean at Portrush. What bank<br>holidays are made of"
          ],
          [
           "@ukdavew It goes through phases. It was like that<br>a few years ago, and it will cycle back into<br>comics around the fall. Hopefully."
          ],
          [
           "A man can never have too many blazers... so I<br>bought another one"
          ],
          [
           "@bettywing @duherica thanks you guys for your help<br>with my custom questions! I really want her to<br>turn out well.  I really appreciate it."
          ],
          [
           "@ericat13 Woo! Have fun in Toledo! Eat a slice for<br>me."
          ],
          [
           "@DeniseVlogs S.O.L. = Shit Out of Luck  hahaha<br>sorry"
          ],
          [
           "@gymnastgirl2267 haha it's a joke with my friend!"
          ],
          [
           "Just got invited to a hallway party next weekend<br>by our pothead neighbor. We'll probably go."
          ],
          [
           "@troyahyo do you know what your name mean in<br>italian phonetic traslation?  fun!"
          ],
          [
           "@crystalchappell A lot of us were gonna sleep, i'm<br>even in bed under the covers, but ur twittering,<br>so no one's going to sleep. Continue."
          ],
          [
           "@LunaraPink maybe...I donÃ¯Â¿Â½t know"
          ],
          [
           "@stef_mitchell you're so pretty you should step<br>out from behind your camera lens  hope you're<br>enjoying darwin x"
          ],
          [
           "@downatheel if she does them well???? between her<br>and nonna no contest - quick and simple - but<br>you'll have to wait  will call her @ 1"
          ],
          [
           "@Meech13 Good ole' Research Methods and<br>Experimental Psychology"
          ],
          [
           "@izzzzzyy miss you btw!"
          ],
          [
           "i feel like crabe and goyle when they stuff their<br>faces with muffins in the 2nd movie. i am eating<br>my muffin like them"
          ],
          [
           "@blitzmegaplex u're just teasing me, right? Well,<br>I'm sold! Is waiting for the 21.30 show @ GI"
          ],
          [
           "@sammiejayne_x   i downloaded it"
          ],
          [
           "@apple_guy nice! can't wait to see those pics"
          ],
          [
           "@nerdCAST the nerd army is rising"
          ],
          [
           "watching friends and ready to eat"
          ],
          [
           "@JoeJonas1Fan1 I cant wait to see 17 again. Zac<br>Efron is a TOTAL BABE!!!!! I will let you know<br>when I see it. Bye!"
          ],
          [
           "@felixexplody Ill believe it when I see it"
          ],
          [
           "@mjaj07 ok well since I am going to bed, this ends<br>our tweet convo. ttyl hun"
          ],
          [
           "@shiningCHER LIFE IS NICCCE!! IT FEELS LIKE ITS<br>GOING TO BE A WONDERFUL DAY!!"
          ],
          [
           "twittering,facebooking,skyping,msn-<br>ing,blogging,FFS-ing,singing,eating,typing this<br>thing out...  MULTI-TASKING."
          ],
          [
           "goodluck for you boy"
          ],
          [
           "@whitey Heyyyy."
          ],
          [
           "@sugarlotus Hey there! No worries.  The day can't<br>be as bad as my last week was for me. hehe"
          ],
          [
           "@zackalltimelow Zack you and atl were incredible!<br>thank you so much. do you like the scrapbook emily<br>and I made btw?"
          ],
          [
           "My birthday is coming June 3"
          ],
          [
           "@MoGet I got a veggie cheesesteak from Govinda's<br>on the way home. bout head back out. going hard<br>this summer."
          ],
          [
           "@radiodisco oh night fever, one of bee gee's songs<br>that i love after how deep is your love"
          ],
          [
           "Dreamt about hugh jackman all night long problem?<br>I think not"
          ],
          [
           "@Prepare4_Org 2006 Intl Fire Code section 404.2<br>lists occupancies that require Fire Safety &amp;<br>Emergency Evacuation Plans also -"
          ],
          [
           "@byhuy nghÃ¡Â»â° ngÃÂ¡i 1 thÃ¡Â»?i gian cho<br>nÃÂ³ refresh"
          ],
          [
           "&lt;3's Chelsea!!! YAAAY So glad we are reunited!"
          ],
          [
           "@tiffanykristen Get 100 followers a day using<br>www.tweeteradder.com Once you add everyone you are<br>on the train or pay vip"
          ],
          [
           "god, i'm loving these 2 hour afternoon naps.<br>maesey, keep it up!! having such an all around<br>good day"
          ],
          [
           "Waiting for the party today with all my friends<br>from work"
          ],
          [
           "@mostlymojo Now that sounds exciting!"
          ],
          [
           "anyone here remembers Mike Dixon? this is the<br>original, not the new mix  (via @cyril_y)"
          ],
          [
           "Is sitting on a bench in the hot sunshine at<br>Berkswell station waiting for the train to<br>Birmingham. #bsmc"
          ],
          [
           "@jrdnpl nice. all their songs are good"
          ],
          [
           "@brodyjenner http://twitpic.com/67tt4 - That's<br>what it takes"
          ],
          [
           "@undergrndlife and then hopefully to pick me up<br>early from work!  yesss?"
          ],
          [
           "@butterflymaven It's over...for now"
          ],
          [
           "the apprentice was amazing @wossy I reackon you<br>should be his next aide"
          ],
          [
           "worked an extra hour and a half @ work and i'm<br>pooped. goodnight twitter"
          ],
          [
           "Dragging myself to work, missed my fitness class<br>this morn. Need one more weekend day"
          ],
          [
           "supernatural is awesome!!  celebrity apprentice"
          ],
          [
           "@liio :O the killers!! awesomeeeee!! Have fun!"
          ],
          [
           "couldn't resist ? http://blip.fm/~5z7v3"
          ],
          [
           "@stephwu Yay, someone else who likes Cars just as<br>much!"
          ],
          [
           "@MirandaBuzz NOO....no cute. taylor Lautner is<br>cute"
          ],
          [
           "Cool. Some nice stuff for kids here.<br>http://101coloringpages.com @buchin"
          ],
          [
           "@LeisaSmitherz awww looking at it up close made me<br>miss your face even more"
          ],
          [
           "@xoClaraxo yeah haha  so people seem to think<br>david archuleta is a republican, (on a discussion<br>on his site) do you think that?"
          ],
          [
           "Nops 95% right lol"
          ],
          [
           "@miguel_25 rude. Zac is not a Disney star. He's<br>becoming a ~serious actor."
          ],
          [
           "Off to Wal Mart and then jogging with friend"
          ],
          [
           "@dereklipkin hahaha. Woops! Darn iPhone spell<br>check was apparently lagging! Now I'm in the<br>animation building"
          ],
          [
           "@yvaine_ God bless sa exam"
          ],
          [
           "@archangelmaggie at least you got to go and have<br>an awesome time!  and also i heard you met<br>@melisaxoarchie !"
          ],
          [
           "@machinenation brilliant! Thanks"
          ],
          [
           "busy busy busy. shower and then getting the last<br>things done for my open house!!!!"
          ],
          [
           "@jcloake It's 12 session courses, and it's really<br>a good supporting environment. Let me know what<br>else you want to know."
          ],
          [
           "Spending the last few hours of my birthday."
          ],
          [
           "morning, all partied out this morning and hoping<br>for a lazy day, with playgroup and yoga, fat<br>chance!"
          ],
          [
           "I don't know why  It's like that"
          ],
          [
           "gorgeous weather = awesome weekend. everything<br>else is just bonus.  off to the zoo w/<br>@thisbchoover. excited! #formerzoologymajor"
          ],
          [
           "back to work but this time in the sun! that makes<br>the whole process so much nicer"
          ],
          [
           "@MissJoJoSmith How did the show go?"
          ],
          [
           "@HollyHeart you will be just fine lovely. i have<br>more than enough faith in you!  xxx ps don't<br>forget vegas is a totally valid back up xx"
          ],
          [
           "@drumzonly Morgen"
          ],
          [
           "@pratheesh correction/corruption=Left politics"
          ],
          [
           "I think I'll go bake something... Stress<br>relieving, allows me avoid study, and I get cake<br>at the end.... Sounds like a plan to me"
          ],
          [
           "@krixsp alright i'm going to try and stop by later<br>tonight if you aren't doing anything  We gotta<br>catch up!"
          ],
          [
           "@CocaCola hey Adam, a responsive approach is much<br>more important than design  the trick is to make a<br>'scalable design' for diff monitors"
          ],
          [
           "@ljlynch That's right  How's your jet lag by the<br>way?"
          ],
          [
           "Round II of today's exercise- KYOA wkout w/<br>@tikshi. Then...eat lunch!!"
          ],
          [
           "just had dinner with dad, mom, &amp; bro in hoka<br>hoka bento"
          ],
          [
           "finally chilling out with my girl christine<br>trying to fig out why ppl gotta act like high<br>schoolers...idiots"
          ],
          [
           "@snedwan only when there's a decent bit of sand<br>around"
          ],
          [
           "just woke up about to eat some brunch and pick up<br>my room a little bit its a mess"
          ],
          [
           "@AimeesBlog green is good"
          ],
          [
           "Church, then homework. that is my plan for the day"
          ],
          [
           "''oh and by the way, what's your name?''"
          ],
          [
           "Hey did you here about the little boy in brazil he<br>gets 2come home2 his dad"
          ],
          [
           "@plasmaegg of course it is. serves you right for<br>trying to be independent"
          ],
          [
           "http://twitpic.com/6sohl - JMS school's band and<br>choir singing i'll make a difference."
          ],
          [
           "At mall, karaoke with friends. Happy Fun"
          ],
          [
           "@SL22268 you dont really wanna start down THAT<br>road do you?"
          ],
          [
           "http://twitpic.com/7j5a6 - Oldish picture of me"
          ],
          [
           "@QueenClariss IDK, I sent you a message by<br>Twitter, so it came where you registered..."
          ],
          [
           "@tearsasmith I saw your men's sandal question...<br>not sure of answer; but my wife loves it when I<br>wear socks with mine! 9 year old hides"
          ]
         ],
         "hovertemplate": "truth=POSITIVE<br>score=%{x}<br>index=%{y}<br>wrapped_text=%{customdata[0]}<extra></extra>",
         "legendgroup": "POSITIVE",
         "marker": {
          "color": "#636efa",
          "symbol": "circle"
         },
         "mode": "markers",
         "name": "POSITIVE",
         "orientation": "h",
         "showlegend": true,
         "type": "scatter",
         "x": [
          0.9856041669845581,
          0.958463728427887,
          0.37656211853027344,
          0.04249262809753418,
          0.0003579854965209961,
          0.8070454597473145,
          0.003969132900238037,
          0.01477879285812378,
          0.03739643096923828,
          0.0001888871192932129,
          0.0010080933570861816,
          0.9997796416282654,
          0.9839035272598267,
          0.003215789794921875,
          0.0012329816818237305,
          0.026494860649108887,
          0.9894694089889526,
          0.0003579854965209961,
          0.9952234625816345,
          0.0006538033485412598,
          0.002898275852203369,
          0.05396240949630737,
          0.26328563690185547,
          0.6796159744262695,
          0.0037283897399902344,
          0.0024556517601013184,
          0.00047981739044189453,
          0.00044220685958862305,
          0.9409147500991821,
          0.9725645184516907,
          0.00019150972366333008,
          0.8429090976715088,
          0.0002574324607849121,
          0.06544435024261475,
          0.0034723877906799316,
          0.0001894831657409668,
          0.0018284320831298828,
          0.9941214919090271,
          0.002292633056640625,
          0.9806249141693115,
          0.9810670614242554,
          0.004583120346069336,
          0.00026851892471313477,
          0.9617103338241577,
          0.00020176172256469727,
          0.006776571273803711,
          0.0002937912940979004,
          0.9993428587913513,
          0.9253206253051758,
          0.00015652179718017578,
          0.8649120330810547,
          0.0983237624168396,
          0.9971973896026611,
          0.0037171244621276855,
          0.9099268317222595,
          0.9996285438537598,
          0.0001342296600341797,
          0.00028139352798461914,
          0.16705834865570068,
          0.031218647956848145,
          0.9872769713401794,
          0.0002498030662536621,
          0.9993987083435059,
          0.9944368600845337,
          0.05023151636123657,
          0.9967557787895203,
          0.4264755845069885,
          0.9996463060379028,
          0.007128536701202393,
          0.0003408193588256836,
          0.0002670884132385254,
          0.9921565055847168,
          0.0001792311668395996,
          0.7431883215904236,
          0.9025259613990784,
          0.9928942322731018,
          0.0008679032325744629,
          0.0007841587066650391,
          0.997579038143158,
          0.0001201629638671875,
          0.8041458129882812,
          0.9956425428390503,
          0.9946137070655823,
          0.9906167387962341,
          0.012897670269012451,
          0.9760149121284485,
          0.4822145700454712,
          0.7215995788574219,
          0.06316256523132324,
          0.9705058336257935,
          0.9994804263114929,
          0.0002701878547668457,
          0.4060554504394531,
          0.559288740158081,
          0.940436065196991,
          0.0014076828956604004,
          0.0004640817642211914,
          0.0001227855682373047,
          0.9899901151657104,
          0.9976353645324707,
          0.9866867065429688,
          0.005084037780761719
         ],
         "xaxis": "x",
         "y": [
          0,
          8,
          11,
          13,
          14,
          15,
          16,
          18,
          19,
          21,
          26,
          29,
          30,
          31,
          33,
          34,
          35,
          41,
          43,
          45,
          47,
          48,
          49,
          51,
          52,
          53,
          55,
          58,
          59,
          60,
          61,
          62,
          65,
          66,
          69,
          71,
          75,
          76,
          78,
          80,
          81,
          85,
          86,
          88,
          90,
          93,
          98,
          100,
          101,
          104,
          105,
          107,
          111,
          112,
          113,
          114,
          115,
          117,
          118,
          120,
          121,
          122,
          124,
          128,
          129,
          130,
          132,
          134,
          135,
          137,
          138,
          139,
          140,
          142,
          143,
          144,
          145,
          148,
          149,
          152,
          154,
          155,
          157,
          159,
          160,
          161,
          162,
          163,
          164,
          165,
          168,
          170,
          171,
          172,
          173,
          177,
          179,
          182,
          186,
          189,
          190,
          198
         ],
         "yaxis": "y"
        },
        {
         "customdata": [
          [
           "@ApplesnFeathers aww. Poor baby! On your only REAL<br>day off."
          ],
          [
           "@joeymcintyre With my refunded $225 (Australian<br>ticket price) I bought me a hot pair of brown<br>boots  Woulda rathered seeing U any day"
          ],
          [
           "It's fine. Today sucks just because me those<br>things. i dunno if i can see you"
          ],
          [
           "Im just chilling on psp and stuff, but sitting on<br>pc now, also watching wimledon, getting ready for<br>holiday @WhiteTigerNora Ahh poor you"
          ],
          [
           "@lisarinna very sad Lisa...she is freeeeeeeeeeee<br>an Angel in Heaven xoxo"
          ],
          [
           "Comfortablity has won out"
          ],
          [
           "blaaah. I don't feel good aagain"
          ],
          [
           "My oldest son is making a trip with my mother...<br>IÃ¯Â¿Â½m missing him"
          ],
          [
           "@buggin469 I'm jealous... Kinda miss you guys"
          ],
          [
           "smugmug was down last night   I also found a 50%<br>coupon for the first year."
          ],
          [
           "@popjustice yeah - going to give it away in the<br>mailout along with that unreleased Prince Album<br>master that I found lying around."
          ],
          [
           "@airplanesarah not yet."
          ],
          [
           "@LBsassybelle I have a big sinking feeling in my<br>stomach at the moment"
          ],
          [
           "@outofmyarse Maybe tomorrow, have to go now"
          ],
          [
           "@karina_gable I feel bad that you even were<br>waiting there for me"
          ],
          [
           "@The1BigTuna mmm that looks yummy, hungry now, all<br>i have is cereal"
          ],
          [
           "iSCSI bugs, dead WANs, and users... oh my"
          ],
          [
           "what happened to my nail care kit?! it driving me<br>nuts!!!"
          ],
          [
           "Itchy eyes...grass being cut...oh-oh."
          ],
          [
           "my os 9 mac laptop just died! so sad- so many good<br>times. so many great programs for my 3 year old -<br>10 years of effective service"
          ],
          [
           "sooo many hints you just don't get... i guess im<br>one in a million, normally that's good, but not<br>this time  i remember when i was special."
          ],
          [
           "@jesus_iscomin  I am so sorry, that sucks!"
          ],
          [
           "@kirkjmiller I was just there. I zoomed there<br>asap, only to hear chorus start singing- right<br>after Emma's speech   -"
          ],
          [
           "do a little bit rehab sports...it hurts always so<br>much"
          ],
          [
           "As usual, Indian railway booking site is screwed<br>up.."
          ],
          [
           "@saxplaya07 Iraq would be over in 10 minutes,<br>remember? Bin Laden would be caught in no<br>time...We here don't believe the cavalry anymore"
          ],
          [
           "@vuhnessuh Not even then  anything involving real-<br>time chatting they're against."
          ],
          [
           "WTF. I went to work, changed and look what I saw!<br>My jeans are ripped  I hope my ass wasn't showing<br>.. Haha http://mypict.me/5ecx"
          ],
          [
           "is not liking the rain and the cold - where's the<br>heat and sunshine gone?!"
          ],
          [
           "Enjoying the weather and wondering if tomorrow<br>will be a washout"
          ],
          [
           "@Pandavas very bad day"
          ],
          [
           "Grey morning is killing my happy buzz  I wish it<br>were sunny. Going somewhere soon, not sure where<br>though."
          ],
          [
           "@meagansdesigns I'm still here, 1.26am!!! and I'm<br>still working on the drawings"
          ],
          [
           "@moonduster Good morning!  Sorry abt the writing.<br>I only got abt 200 words. Struggling w/ a scene.<br>Trying 4 a horror feel and failing"
          ],
          [
           "Gradudtion 2moz leave skwl 4 gd gunna miss my m8s<br>though n 1 lad inparticular"
          ],
          [
           "I thought I had work today. Turns out it's<br>tomorrow. Canceled proper work for nada."
          ],
          [
           "@earthtoandrew you can come cuddle with me if<br>that'll make you feel better &lt;3"
          ],
          [
           "@addisonkowalski - I Want To Particpate!!!  My<br>iPhone won't let me"
          ],
          [
           "two less than kelly."
          ],
          [
           "I tried to call gimpy his mom was out side"
          ],
          [
           "@ZombieArmadillo Nowhere open on a Sunday, bah!<br>&gt;_&lt; I wish I COULD mail him to you... He<br>needs a good home, poor little mite!"
          ],
          [
           "Ia feeling ill"
          ],
          [
           "Back to work at Siam Square...might fin around 8pm"
          ],
          [
           "is very much saddned by all the jon and kate<br>stuff..."
          ],
          [
           "i'm tired  its been a long day. thinking about<br>taking a nap. right after i take out my dentures<br>:]"
          ],
          [
           "who wants to go with me to beach chalet and cry?<br>sigh."
          ],
          [
           "Ewwww some creeper is at the beach staring at us!<br>save us? Haha"
          ],
          [
           "Have a terrible headache right now"
          ],
          [
           "@Storybird Hey, I'm thinking the time is right to<br>dust off my living-on-the-moon story . . . maybe<br>not dystopian enough, though."
          ],
          [
           "@RealLamarOdom You've never tweeted me back.<br>Makes me sad. Haha"
          ],
          [
           "this has been a rough couple weeks...1st my<br>friends parents found my good friend dead at home"
          ],
          [
           "Ã?ÃÂ´m sitting in the boring room!!!"
          ],
          [
           "Another boring day I think. My neck/throat hurts<br>today  Too many cigarettes methinks. Need to cut<br>down. But so goooood lmfao"
          ],
          [
           "@aristeia  apparently the match just started"
          ],
          [
           "problem with 2am pho making is that you dont have<br>10hrs to make a fine broth"
          ],
          [
           "@Sidney96 Gasp! I want somee.  Haha, i do that! xD<br>Just had 2 carry sister downstairs &amp; explain 2<br>mum what Twitter was. xD"
          ],
          [
           "New Post: our beach trip...  no naked ladies in<br>this one   http://www.mybottlesup.com/poppys-beach"
          ],
          [
           "@naughtylilady4u lol - I just had a little snooze<br>out there - disgraceful - back at the desk now !<br>xx"
          ],
          [
           "@markchute i did i sent u DM but u didnt reply"
          ],
          [
           "@TheDeadPhoenix Yeah flash is working. But not my<br>audio"
          ],
          [
           "the one day i don't take my umbrella... i get<br>rained on"
          ],
          [
           "raiiiiiin, working, studying, sats in the morning"
          ],
          [
           "@annspade I be struggling to sleep, myself, 'cept<br>it's 4:30AM over here."
          ],
          [
           "Don't you just hate when you are craving something<br>to eat and then you go get it and end up<br>DISAPPOINTED? Ugh....."
          ],
          [
           "My parakeet escaped. i'm pretty bummed, but kudos<br>to Storm Rider for following his dreams."
          ],
          [
           "@Lauriei94 Happy B-Day ! Sorry I missed it  Didn't<br>leave the studio till 2:30am on fri, hope you had<br>a great 1"
          ],
          [
           "Blocking 2 spam followers... is sad to see<br>spamming on Twitter"
          ],
          [
           "I hate revision. I'm feeling crappy today and all<br>I want to do is curl with knitting and DVDs and<br>tea. But I can't"
          ],
          [
           "@jerseybites I get bit by ticks all the time  I<br>eat a ton of garlic in the summer to keep them and<br>mosquitoes away! boo &gt;:O"
          ],
          [
           "I don't think puppies are meant to glow like this<br>http://ow.ly/ez1B"
          ],
          [
           "@sheenabeaston Man I haven't seen her live since<br>her Teaches of Peaches days."
          ],
          [
           "Mornin'!  I see more dark clouds coming our way.<br>Blah."
          ],
          [
           "@itallwithers i am bueno, mostly. a little<br>disgruntled. i need my meds  yadida? how r u?"
          ],
          [
           "I MISS ALLY  GRLLLLLL COME BACK TO ME I MISS U SO<br>MUCH I NEED SOME ONE TO HANG WITH"
          ],
          [
           "Borrowed correct CSI DVDs and watched the eps that<br>had Liev Schreiber in them. His character was<br>rather heartbreaking."
          ],
          [
           "@GianniDee Yes silly!! I hope you have some great<br>pics from MTV Movie Awards. So sad I missed it"
          ],
          [
           "plans for tomorrow: watch Doctor Who, work out at<br>gym, play some Sims 3 and read physics stuff"
          ],
          [
           "I was so tired. I really need to have better sleep<br>patterns. As a result, I've just woken up from a<br>3h-nap  I feel better but still..."
          ],
          [
           "MOTM Jamie Roberts!! Gotta change front row &amp;<br>maybe numba 10 for next Test!!"
          ],
          [
           ".......Bugs is being mean to pooh"
          ],
          [
           "@ShinigamiGirl what did I do now?"
          ],
          [
           "@ddlovato aw, I wish I could go!! But you're not<br>coming here."
          ],
          [
           "Can't send messages! What's wrong? Super napipikon<br>na ako."
          ],
          [
           "Lifting, then working for 8.5 hours inside on this<br>beautiful day..."
          ],
          [
           "@bridgetboston88 dat your smart and im not"
          ],
          [
           "On the monday, so i wont be able to be with you!<br>i love you"
          ],
          [
           "On my way to rotterdam. But i'm too late for my<br>appointment"
          ],
          [
           "Yay done moving into my new house... Rome reunion<br>here in Charleston! ... I dont want to go back to<br>work soon"
          ],
          [
           "@iamJaymes That is exactly what happened! I'm too<br>traumatised to even watch one of their adverts now"
          ],
          [
           "Bryan told me my shoes looked like hooker shoes."
          ],
          [
           "@RiverClark oh shit isn't it poker night at your<br>place tonite? I'm fighting zombiedeath  it lurks<br>in thee shadowsssssss"
          ],
          [
           "Half term is almost over"
          ],
          [
           "Me and my sister is listening to goodbye my almost<br>lover by a fine frenzy. That was me and scarletts<br>song. Makes me sad."
          ],
          [
           "@romeyurhomey i wish"
          ],
          [
           "my bloodsugar is low  but im late for class..sigh."
          ],
          [
           "Homw from camping, laundry and dinner done.  Time<br>to get ready for work tomorrow."
          ],
          [
           "@gilliganpierce Im sorry.  at least u dont have a<br>mutant foot!"
          ],
          [
           "@CameronSummers why so sad?"
          ]
         ],
         "hovertemplate": "truth=NEGATIVE<br>score=%{x}<br>index=%{y}<br>wrapped_text=%{customdata[0]}<extra></extra>",
         "legendgroup": "NEGATIVE",
         "marker": {
          "color": "#EF553B",
          "symbol": "circle"
         },
         "mode": "markers",
         "name": "NEGATIVE",
         "orientation": "h",
         "showlegend": true,
         "type": "scatter",
         "x": [
          0.9975548386573792,
          0.7486612200737,
          0.001431107521057129,
          0.9953784942626953,
          0.9907119870185852,
          0.0007766485214233398,
          0.9997811913490295,
          0.9971519708633423,
          0.8845381736755371,
          0.9985365867614746,
          0.9665789604187012,
          0.9975572824478149,
          0.9234620332717896,
          0.7235565781593323,
          0.9997047781944275,
          0.9905673861503601,
          0.9981815814971924,
          0.998484194278717,
          0.9954307079315186,
          0.8201236128807068,
          0.051239073276519775,
          0.9977230429649353,
          0.011213541030883789,
          0.9994145631790161,
          0.9997795224189758,
          0.9973604083061218,
          0.9912699460983276,
          0.9801007509231567,
          0.9997742772102356,
          0.0007686614990234375,
          0.9995321035385132,
          0.9988330006599426,
          0.68691486120224,
          0.9995999932289124,
          0.9993128776550293,
          0.9984083771705627,
          0.24225711822509766,
          0.010394454002380371,
          0.9772320985794067,
          0.9990254640579224,
          0.9996011853218079,
          0.9997586607933044,
          0.9891668558120728,
          0.9954918026924133,
          0.9990566372871399,
          0.9880052208900452,
          0.9330106377601624,
          0.999090313911438,
          0.9992726445198059,
          0.18164414167404175,
          0.9985995888710022,
          0.9992239475250244,
          0.9977225661277771,
          0.9938488602638245,
          0.9967310428619385,
          0.9872612953186035,
          0.9954103827476501,
          0.9995961785316467,
          0.9988409876823425,
          0.9952894449234009,
          0.990767776966095,
          0.9623993039131165,
          0.9976209998130798,
          0.9993124008178711,
          0.0163266658782959,
          0.0044081807136535645,
          0.9994847774505615,
          0.9962878227233887,
          0.8803070783615112,
          0.9974256157875061,
          0.27347469329833984,
          0.9935827851295471,
          0.9992659687995911,
          0.9556384682655334,
          0.9803816080093384,
          0.9920803904533386,
          0.021925687789916992,
          0.9989812970161438,
          0.9974182844161987,
          0.996366024017334,
          0.9823095202445984,
          0.9986199140548706,
          0.9992235898971558,
          0.0003821849822998047,
          0.9969375133514404,
          0.00025790929794311523,
          0.9990841150283813,
          0.9844563007354736,
          0.999687910079956,
          0.990874171257019,
          0.9936352968215942,
          0.9937752485275269,
          0.7634533047676086,
          0.05013072490692139,
          0.9951849579811096,
          0.9930850267410278,
          0.9988734126091003,
          0.9991632699966431
         ],
         "xaxis": "x",
         "y": [
          1,
          2,
          3,
          4,
          5,
          6,
          7,
          9,
          10,
          12,
          17,
          20,
          22,
          23,
          24,
          25,
          27,
          28,
          32,
          36,
          37,
          38,
          39,
          40,
          42,
          44,
          46,
          50,
          54,
          56,
          57,
          63,
          64,
          67,
          68,
          70,
          72,
          73,
          74,
          77,
          79,
          82,
          83,
          84,
          87,
          89,
          91,
          92,
          94,
          95,
          96,
          97,
          99,
          102,
          103,
          106,
          108,
          109,
          110,
          116,
          119,
          123,
          125,
          126,
          127,
          131,
          133,
          136,
          141,
          146,
          147,
          150,
          151,
          153,
          156,
          158,
          166,
          167,
          169,
          174,
          175,
          176,
          178,
          180,
          181,
          183,
          184,
          185,
          187,
          188,
          191,
          192,
          193,
          194,
          195,
          196,
          197,
          199
         ],
         "yaxis": "y"
        }
       ],
       "layout": {
        "legend": {
         "title": {
          "text": "truth"
         },
         "tracegroupgap": 0
        },
        "margin": {
         "t": 60
        },
        "template": {
         "data": {
          "bar": [
           {
            "error_x": {
             "color": "#2a3f5f"
            },
            "error_y": {
             "color": "#2a3f5f"
            },
            "marker": {
             "line": {
              "color": "#E5ECF6",
              "width": 0.5
             },
             "pattern": {
              "fillmode": "overlay",
              "size": 10,
              "solidity": 0.2
             }
            },
            "type": "bar"
           }
          ],
          "barpolar": [
           {
            "marker": {
             "line": {
              "color": "#E5ECF6",
              "width": 0.5
             },
             "pattern": {
              "fillmode": "overlay",
              "size": 10,
              "solidity": 0.2
             }
            },
            "type": "barpolar"
           }
          ],
          "carpet": [
           {
            "aaxis": {
             "endlinecolor": "#2a3f5f",
             "gridcolor": "white",
             "linecolor": "white",
             "minorgridcolor": "white",
             "startlinecolor": "#2a3f5f"
            },
            "baxis": {
             "endlinecolor": "#2a3f5f",
             "gridcolor": "white",
             "linecolor": "white",
             "minorgridcolor": "white",
             "startlinecolor": "#2a3f5f"
            },
            "type": "carpet"
           }
          ],
          "choropleth": [
           {
            "colorbar": {
             "outlinewidth": 0,
             "ticks": ""
            },
            "type": "choropleth"
           }
          ],
          "contour": [
           {
            "colorbar": {
             "outlinewidth": 0,
             "ticks": ""
            },
            "colorscale": [
             [
              0,
              "#0d0887"
             ],
             [
              0.1111111111111111,
              "#46039f"
             ],
             [
              0.2222222222222222,
              "#7201a8"
             ],
             [
              0.3333333333333333,
              "#9c179e"
             ],
             [
              0.4444444444444444,
              "#bd3786"
             ],
             [
              0.5555555555555556,
              "#d8576b"
             ],
             [
              0.6666666666666666,
              "#ed7953"
             ],
             [
              0.7777777777777778,
              "#fb9f3a"
             ],
             [
              0.8888888888888888,
              "#fdca26"
             ],
             [
              1,
              "#f0f921"
             ]
            ],
            "type": "contour"
           }
          ],
          "contourcarpet": [
           {
            "colorbar": {
             "outlinewidth": 0,
             "ticks": ""
            },
            "type": "contourcarpet"
           }
          ],
          "heatmap": [
           {
            "colorbar": {
             "outlinewidth": 0,
             "ticks": ""
            },
            "colorscale": [
             [
              0,
              "#0d0887"
             ],
             [
              0.1111111111111111,
              "#46039f"
             ],
             [
              0.2222222222222222,
              "#7201a8"
             ],
             [
              0.3333333333333333,
              "#9c179e"
             ],
             [
              0.4444444444444444,
              "#bd3786"
             ],
             [
              0.5555555555555556,
              "#d8576b"
             ],
             [
              0.6666666666666666,
              "#ed7953"
             ],
             [
              0.7777777777777778,
              "#fb9f3a"
             ],
             [
              0.8888888888888888,
              "#fdca26"
             ],
             [
              1,
              "#f0f921"
             ]
            ],
            "type": "heatmap"
           }
          ],
          "heatmapgl": [
           {
            "colorbar": {
             "outlinewidth": 0,
             "ticks": ""
            },
            "colorscale": [
             [
              0,
              "#0d0887"
             ],
             [
              0.1111111111111111,
              "#46039f"
             ],
             [
              0.2222222222222222,
              "#7201a8"
             ],
             [
              0.3333333333333333,
              "#9c179e"
             ],
             [
              0.4444444444444444,
              "#bd3786"
             ],
             [
              0.5555555555555556,
              "#d8576b"
             ],
             [
              0.6666666666666666,
              "#ed7953"
             ],
             [
              0.7777777777777778,
              "#fb9f3a"
             ],
             [
              0.8888888888888888,
              "#fdca26"
             ],
             [
              1,
              "#f0f921"
             ]
            ],
            "type": "heatmapgl"
           }
          ],
          "histogram": [
           {
            "marker": {
             "pattern": {
              "fillmode": "overlay",
              "size": 10,
              "solidity": 0.2
             }
            },
            "type": "histogram"
           }
          ],
          "histogram2d": [
           {
            "colorbar": {
             "outlinewidth": 0,
             "ticks": ""
            },
            "colorscale": [
             [
              0,
              "#0d0887"
             ],
             [
              0.1111111111111111,
              "#46039f"
             ],
             [
              0.2222222222222222,
              "#7201a8"
             ],
             [
              0.3333333333333333,
              "#9c179e"
             ],
             [
              0.4444444444444444,
              "#bd3786"
             ],
             [
              0.5555555555555556,
              "#d8576b"
             ],
             [
              0.6666666666666666,
              "#ed7953"
             ],
             [
              0.7777777777777778,
              "#fb9f3a"
             ],
             [
              0.8888888888888888,
              "#fdca26"
             ],
             [
              1,
              "#f0f921"
             ]
            ],
            "type": "histogram2d"
           }
          ],
          "histogram2dcontour": [
           {
            "colorbar": {
             "outlinewidth": 0,
             "ticks": ""
            },
            "colorscale": [
             [
              0,
              "#0d0887"
             ],
             [
              0.1111111111111111,
              "#46039f"
             ],
             [
              0.2222222222222222,
              "#7201a8"
             ],
             [
              0.3333333333333333,
              "#9c179e"
             ],
             [
              0.4444444444444444,
              "#bd3786"
             ],
             [
              0.5555555555555556,
              "#d8576b"
             ],
             [
              0.6666666666666666,
              "#ed7953"
             ],
             [
              0.7777777777777778,
              "#fb9f3a"
             ],
             [
              0.8888888888888888,
              "#fdca26"
             ],
             [
              1,
              "#f0f921"
             ]
            ],
            "type": "histogram2dcontour"
           }
          ],
          "mesh3d": [
           {
            "colorbar": {
             "outlinewidth": 0,
             "ticks": ""
            },
            "type": "mesh3d"
           }
          ],
          "parcoords": [
           {
            "line": {
             "colorbar": {
              "outlinewidth": 0,
              "ticks": ""
             }
            },
            "type": "parcoords"
           }
          ],
          "pie": [
           {
            "automargin": true,
            "type": "pie"
           }
          ],
          "scatter": [
           {
            "fillpattern": {
             "fillmode": "overlay",
             "size": 10,
             "solidity": 0.2
            },
            "type": "scatter"
           }
          ],
          "scatter3d": [
           {
            "line": {
             "colorbar": {
              "outlinewidth": 0,
              "ticks": ""
             }
            },
            "marker": {
             "colorbar": {
              "outlinewidth": 0,
              "ticks": ""
             }
            },
            "type": "scatter3d"
           }
          ],
          "scattercarpet": [
           {
            "marker": {
             "colorbar": {
              "outlinewidth": 0,
              "ticks": ""
             }
            },
            "type": "scattercarpet"
           }
          ],
          "scattergeo": [
           {
            "marker": {
             "colorbar": {
              "outlinewidth": 0,
              "ticks": ""
             }
            },
            "type": "scattergeo"
           }
          ],
          "scattergl": [
           {
            "marker": {
             "colorbar": {
              "outlinewidth": 0,
              "ticks": ""
             }
            },
            "type": "scattergl"
           }
          ],
          "scattermapbox": [
           {
            "marker": {
             "colorbar": {
              "outlinewidth": 0,
              "ticks": ""
             }
            },
            "type": "scattermapbox"
           }
          ],
          "scatterpolar": [
           {
            "marker": {
             "colorbar": {
              "outlinewidth": 0,
              "ticks": ""
             }
            },
            "type": "scatterpolar"
           }
          ],
          "scatterpolargl": [
           {
            "marker": {
             "colorbar": {
              "outlinewidth": 0,
              "ticks": ""
             }
            },
            "type": "scatterpolargl"
           }
          ],
          "scatterternary": [
           {
            "marker": {
             "colorbar": {
              "outlinewidth": 0,
              "ticks": ""
             }
            },
            "type": "scatterternary"
           }
          ],
          "surface": [
           {
            "colorbar": {
             "outlinewidth": 0,
             "ticks": ""
            },
            "colorscale": [
             [
              0,
              "#0d0887"
             ],
             [
              0.1111111111111111,
              "#46039f"
             ],
             [
              0.2222222222222222,
              "#7201a8"
             ],
             [
              0.3333333333333333,
              "#9c179e"
             ],
             [
              0.4444444444444444,
              "#bd3786"
             ],
             [
              0.5555555555555556,
              "#d8576b"
             ],
             [
              0.6666666666666666,
              "#ed7953"
             ],
             [
              0.7777777777777778,
              "#fb9f3a"
             ],
             [
              0.8888888888888888,
              "#fdca26"
             ],
             [
              1,
              "#f0f921"
             ]
            ],
            "type": "surface"
           }
          ],
          "table": [
           {
            "cells": {
             "fill": {
              "color": "#EBF0F8"
             },
             "line": {
              "color": "white"
             }
            },
            "header": {
             "fill": {
              "color": "#C8D4E3"
             },
             "line": {
              "color": "white"
             }
            },
            "type": "table"
           }
          ]
         },
         "layout": {
          "annotationdefaults": {
           "arrowcolor": "#2a3f5f",
           "arrowhead": 0,
           "arrowwidth": 1
          },
          "autotypenumbers": "strict",
          "coloraxis": {
           "colorbar": {
            "outlinewidth": 0,
            "ticks": ""
           }
          },
          "colorscale": {
           "diverging": [
            [
             0,
             "#8e0152"
            ],
            [
             0.1,
             "#c51b7d"
            ],
            [
             0.2,
             "#de77ae"
            ],
            [
             0.3,
             "#f1b6da"
            ],
            [
             0.4,
             "#fde0ef"
            ],
            [
             0.5,
             "#f7f7f7"
            ],
            [
             0.6,
             "#e6f5d0"
            ],
            [
             0.7,
             "#b8e186"
            ],
            [
             0.8,
             "#7fbc41"
            ],
            [
             0.9,
             "#4d9221"
            ],
            [
             1,
             "#276419"
            ]
           ],
           "sequential": [
            [
             0,
             "#0d0887"
            ],
            [
             0.1111111111111111,
             "#46039f"
            ],
            [
             0.2222222222222222,
             "#7201a8"
            ],
            [
             0.3333333333333333,
             "#9c179e"
            ],
            [
             0.4444444444444444,
             "#bd3786"
            ],
            [
             0.5555555555555556,
             "#d8576b"
            ],
            [
             0.6666666666666666,
             "#ed7953"
            ],
            [
             0.7777777777777778,
             "#fb9f3a"
            ],
            [
             0.8888888888888888,
             "#fdca26"
            ],
            [
             1,
             "#f0f921"
            ]
           ],
           "sequentialminus": [
            [
             0,
             "#0d0887"
            ],
            [
             0.1111111111111111,
             "#46039f"
            ],
            [
             0.2222222222222222,
             "#7201a8"
            ],
            [
             0.3333333333333333,
             "#9c179e"
            ],
            [
             0.4444444444444444,
             "#bd3786"
            ],
            [
             0.5555555555555556,
             "#d8576b"
            ],
            [
             0.6666666666666666,
             "#ed7953"
            ],
            [
             0.7777777777777778,
             "#fb9f3a"
            ],
            [
             0.8888888888888888,
             "#fdca26"
            ],
            [
             1,
             "#f0f921"
            ]
           ]
          },
          "colorway": [
           "#636efa",
           "#EF553B",
           "#00cc96",
           "#ab63fa",
           "#FFA15A",
           "#19d3f3",
           "#FF6692",
           "#B6E880",
           "#FF97FF",
           "#FECB52"
          ],
          "font": {
           "color": "#2a3f5f"
          },
          "geo": {
           "bgcolor": "white",
           "lakecolor": "white",
           "landcolor": "#E5ECF6",
           "showlakes": true,
           "showland": true,
           "subunitcolor": "white"
          },
          "hoverlabel": {
           "align": "left"
          },
          "hovermode": "closest",
          "mapbox": {
           "style": "light"
          },
          "paper_bgcolor": "white",
          "plot_bgcolor": "#E5ECF6",
          "polar": {
           "angularaxis": {
            "gridcolor": "white",
            "linecolor": "white",
            "ticks": ""
           },
           "bgcolor": "#E5ECF6",
           "radialaxis": {
            "gridcolor": "white",
            "linecolor": "white",
            "ticks": ""
           }
          },
          "scene": {
           "xaxis": {
            "backgroundcolor": "#E5ECF6",
            "gridcolor": "white",
            "gridwidth": 2,
            "linecolor": "white",
            "showbackground": true,
            "ticks": "",
            "zerolinecolor": "white"
           },
           "yaxis": {
            "backgroundcolor": "#E5ECF6",
            "gridcolor": "white",
            "gridwidth": 2,
            "linecolor": "white",
            "showbackground": true,
            "ticks": "",
            "zerolinecolor": "white"
           },
           "zaxis": {
            "backgroundcolor": "#E5ECF6",
            "gridcolor": "white",
            "gridwidth": 2,
            "linecolor": "white",
            "showbackground": true,
            "ticks": "",
            "zerolinecolor": "white"
           }
          },
          "shapedefaults": {
           "line": {
            "color": "#2a3f5f"
           }
          },
          "ternary": {
           "aaxis": {
            "gridcolor": "white",
            "linecolor": "white",
            "ticks": ""
           },
           "baxis": {
            "gridcolor": "white",
            "linecolor": "white",
            "ticks": ""
           },
           "bgcolor": "#E5ECF6",
           "caxis": {
            "gridcolor": "white",
            "linecolor": "white",
            "ticks": ""
           }
          },
          "title": {
           "x": 0.05
          },
          "xaxis": {
           "automargin": true,
           "gridcolor": "white",
           "linecolor": "white",
           "ticks": "",
           "title": {
            "standoff": 15
           },
           "zerolinecolor": "white",
           "zerolinewidth": 2
          },
          "yaxis": {
           "automargin": true,
           "gridcolor": "white",
           "linecolor": "white",
           "ticks": "",
           "title": {
            "standoff": 15
           },
           "zerolinecolor": "white",
           "zerolinewidth": 2
          }
         }
        },
        "xaxis": {
         "anchor": "y",
         "domain": [
          0,
          1
         ],
         "title": {
          "text": "score"
         }
        },
        "yaxis": {
         "anchor": "x",
         "domain": [
          0,
          1
         ],
         "title": {
          "text": "index"
         }
        }
       }
      }
     },
     "metadata": {},
     "output_type": "display_data"
    }
   ],
   "source": [
    "px.scatter(df, x='score', hover_data=['wrapped_text'],color='truth')"
   ]
  },
  {
   "cell_type": "markdown",
   "metadata": {},
   "source": [
    "The model really likes to make extreme predictions. It's hard to give a quantitative estimate of the calibration because we have only binary label, adding the \"NEUTRAL\" or \"AMBIGUOUS\" class to the dataset might help mitigate this problem."
   ]
  },
  {
   "cell_type": "code",
   "execution_count": 108,
   "metadata": {},
   "outputs": [
    {
     "data": {
      "application/vnd.plotly.v1+json": {
       "config": {
        "plotlyServerURL": "https://plot.ly"
       },
       "data": [
        {
         "alignmentgroup": "True",
         "bingroup": "x",
         "hovertemplate": "score=%{x}<br>count=%{y}<extra></extra>",
         "legendgroup": "",
         "marker": {
          "color": "#636efa",
          "pattern": {
           "shape": ""
          }
         },
         "name": "",
         "nbinsx": 20,
         "offsetgroup": "",
         "orientation": "v",
         "showlegend": false,
         "type": "histogram",
         "x": [
          0.9856041669845581,
          0.9975548386573792,
          0.7486612200737,
          0.001431107521057129,
          0.9953784942626953,
          0.9907119870185852,
          0.0007766485214233398,
          0.9997811913490295,
          0.958463728427887,
          0.9971519708633423,
          0.8845381736755371,
          0.37656211853027344,
          0.9985365867614746,
          0.04249262809753418,
          0.0003579854965209961,
          0.8070454597473145,
          0.003969132900238037,
          0.9665789604187012,
          0.01477879285812378,
          0.03739643096923828,
          0.9975572824478149,
          0.0001888871192932129,
          0.9234620332717896,
          0.7235565781593323,
          0.9997047781944275,
          0.9905673861503601,
          0.0010080933570861816,
          0.9981815814971924,
          0.998484194278717,
          0.9997796416282654,
          0.9839035272598267,
          0.003215789794921875,
          0.9954307079315186,
          0.0012329816818237305,
          0.026494860649108887,
          0.9894694089889526,
          0.8201236128807068,
          0.051239073276519775,
          0.9977230429649353,
          0.011213541030883789,
          0.9994145631790161,
          0.0003579854965209961,
          0.9997795224189758,
          0.9952234625816345,
          0.9973604083061218,
          0.0006538033485412598,
          0.9912699460983276,
          0.002898275852203369,
          0.05396240949630737,
          0.26328563690185547,
          0.9801007509231567,
          0.6796159744262695,
          0.0037283897399902344,
          0.0024556517601013184,
          0.9997742772102356,
          0.00047981739044189453,
          0.0007686614990234375,
          0.9995321035385132,
          0.00044220685958862305,
          0.9409147500991821,
          0.9725645184516907,
          0.00019150972366333008,
          0.8429090976715088,
          0.9988330006599426,
          0.68691486120224,
          0.0002574324607849121,
          0.06544435024261475,
          0.9995999932289124,
          0.9993128776550293,
          0.0034723877906799316,
          0.9984083771705627,
          0.0001894831657409668,
          0.24225711822509766,
          0.010394454002380371,
          0.9772320985794067,
          0.0018284320831298828,
          0.9941214919090271,
          0.9990254640579224,
          0.002292633056640625,
          0.9996011853218079,
          0.9806249141693115,
          0.9810670614242554,
          0.9997586607933044,
          0.9891668558120728,
          0.9954918026924133,
          0.004583120346069336,
          0.00026851892471313477,
          0.9990566372871399,
          0.9617103338241577,
          0.9880052208900452,
          0.00020176172256469727,
          0.9330106377601624,
          0.999090313911438,
          0.006776571273803711,
          0.9992726445198059,
          0.18164414167404175,
          0.9985995888710022,
          0.9992239475250244,
          0.0002937912940979004,
          0.9977225661277771,
          0.9993428587913513,
          0.9253206253051758,
          0.9938488602638245,
          0.9967310428619385,
          0.00015652179718017578,
          0.8649120330810547,
          0.9872612953186035,
          0.0983237624168396,
          0.9954103827476501,
          0.9995961785316467,
          0.9988409876823425,
          0.9971973896026611,
          0.0037171244621276855,
          0.9099268317222595,
          0.9996285438537598,
          0.0001342296600341797,
          0.9952894449234009,
          0.00028139352798461914,
          0.16705834865570068,
          0.990767776966095,
          0.031218647956848145,
          0.9872769713401794,
          0.0002498030662536621,
          0.9623993039131165,
          0.9993987083435059,
          0.9976209998130798,
          0.9993124008178711,
          0.0163266658782959,
          0.9944368600845337,
          0.05023151636123657,
          0.9967557787895203,
          0.0044081807136535645,
          0.4264755845069885,
          0.9994847774505615,
          0.9996463060379028,
          0.007128536701202393,
          0.9962878227233887,
          0.0003408193588256836,
          0.0002670884132385254,
          0.9921565055847168,
          0.0001792311668395996,
          0.8803070783615112,
          0.7431883215904236,
          0.9025259613990784,
          0.9928942322731018,
          0.0008679032325744629,
          0.9974256157875061,
          0.27347469329833984,
          0.0007841587066650391,
          0.997579038143158,
          0.9935827851295471,
          0.9992659687995911,
          0.0001201629638671875,
          0.9556384682655334,
          0.8041458129882812,
          0.9956425428390503,
          0.9803816080093384,
          0.9946137070655823,
          0.9920803904533386,
          0.9906167387962341,
          0.012897670269012451,
          0.9760149121284485,
          0.4822145700454712,
          0.7215995788574219,
          0.06316256523132324,
          0.9705058336257935,
          0.021925687789916992,
          0.9989812970161438,
          0.9994804263114929,
          0.9974182844161987,
          0.0002701878547668457,
          0.4060554504394531,
          0.559288740158081,
          0.940436065196991,
          0.996366024017334,
          0.9823095202445984,
          0.9986199140548706,
          0.0014076828956604004,
          0.9992235898971558,
          0.0004640817642211914,
          0.0003821849822998047,
          0.9969375133514404,
          0.0001227855682373047,
          0.00025790929794311523,
          0.9990841150283813,
          0.9844563007354736,
          0.9899901151657104,
          0.999687910079956,
          0.990874171257019,
          0.9976353645324707,
          0.9866867065429688,
          0.9936352968215942,
          0.9937752485275269,
          0.7634533047676086,
          0.05013072490692139,
          0.9951849579811096,
          0.9930850267410278,
          0.9988734126091003,
          0.005084037780761719,
          0.9991632699966431
         ],
         "xaxis": "x",
         "yaxis": "y"
        }
       ],
       "layout": {
        "barmode": "relative",
        "legend": {
         "tracegroupgap": 0
        },
        "margin": {
         "t": 60
        },
        "template": {
         "data": {
          "bar": [
           {
            "error_x": {
             "color": "#2a3f5f"
            },
            "error_y": {
             "color": "#2a3f5f"
            },
            "marker": {
             "line": {
              "color": "#E5ECF6",
              "width": 0.5
             },
             "pattern": {
              "fillmode": "overlay",
              "size": 10,
              "solidity": 0.2
             }
            },
            "type": "bar"
           }
          ],
          "barpolar": [
           {
            "marker": {
             "line": {
              "color": "#E5ECF6",
              "width": 0.5
             },
             "pattern": {
              "fillmode": "overlay",
              "size": 10,
              "solidity": 0.2
             }
            },
            "type": "barpolar"
           }
          ],
          "carpet": [
           {
            "aaxis": {
             "endlinecolor": "#2a3f5f",
             "gridcolor": "white",
             "linecolor": "white",
             "minorgridcolor": "white",
             "startlinecolor": "#2a3f5f"
            },
            "baxis": {
             "endlinecolor": "#2a3f5f",
             "gridcolor": "white",
             "linecolor": "white",
             "minorgridcolor": "white",
             "startlinecolor": "#2a3f5f"
            },
            "type": "carpet"
           }
          ],
          "choropleth": [
           {
            "colorbar": {
             "outlinewidth": 0,
             "ticks": ""
            },
            "type": "choropleth"
           }
          ],
          "contour": [
           {
            "colorbar": {
             "outlinewidth": 0,
             "ticks": ""
            },
            "colorscale": [
             [
              0,
              "#0d0887"
             ],
             [
              0.1111111111111111,
              "#46039f"
             ],
             [
              0.2222222222222222,
              "#7201a8"
             ],
             [
              0.3333333333333333,
              "#9c179e"
             ],
             [
              0.4444444444444444,
              "#bd3786"
             ],
             [
              0.5555555555555556,
              "#d8576b"
             ],
             [
              0.6666666666666666,
              "#ed7953"
             ],
             [
              0.7777777777777778,
              "#fb9f3a"
             ],
             [
              0.8888888888888888,
              "#fdca26"
             ],
             [
              1,
              "#f0f921"
             ]
            ],
            "type": "contour"
           }
          ],
          "contourcarpet": [
           {
            "colorbar": {
             "outlinewidth": 0,
             "ticks": ""
            },
            "type": "contourcarpet"
           }
          ],
          "heatmap": [
           {
            "colorbar": {
             "outlinewidth": 0,
             "ticks": ""
            },
            "colorscale": [
             [
              0,
              "#0d0887"
             ],
             [
              0.1111111111111111,
              "#46039f"
             ],
             [
              0.2222222222222222,
              "#7201a8"
             ],
             [
              0.3333333333333333,
              "#9c179e"
             ],
             [
              0.4444444444444444,
              "#bd3786"
             ],
             [
              0.5555555555555556,
              "#d8576b"
             ],
             [
              0.6666666666666666,
              "#ed7953"
             ],
             [
              0.7777777777777778,
              "#fb9f3a"
             ],
             [
              0.8888888888888888,
              "#fdca26"
             ],
             [
              1,
              "#f0f921"
             ]
            ],
            "type": "heatmap"
           }
          ],
          "heatmapgl": [
           {
            "colorbar": {
             "outlinewidth": 0,
             "ticks": ""
            },
            "colorscale": [
             [
              0,
              "#0d0887"
             ],
             [
              0.1111111111111111,
              "#46039f"
             ],
             [
              0.2222222222222222,
              "#7201a8"
             ],
             [
              0.3333333333333333,
              "#9c179e"
             ],
             [
              0.4444444444444444,
              "#bd3786"
             ],
             [
              0.5555555555555556,
              "#d8576b"
             ],
             [
              0.6666666666666666,
              "#ed7953"
             ],
             [
              0.7777777777777778,
              "#fb9f3a"
             ],
             [
              0.8888888888888888,
              "#fdca26"
             ],
             [
              1,
              "#f0f921"
             ]
            ],
            "type": "heatmapgl"
           }
          ],
          "histogram": [
           {
            "marker": {
             "pattern": {
              "fillmode": "overlay",
              "size": 10,
              "solidity": 0.2
             }
            },
            "type": "histogram"
           }
          ],
          "histogram2d": [
           {
            "colorbar": {
             "outlinewidth": 0,
             "ticks": ""
            },
            "colorscale": [
             [
              0,
              "#0d0887"
             ],
             [
              0.1111111111111111,
              "#46039f"
             ],
             [
              0.2222222222222222,
              "#7201a8"
             ],
             [
              0.3333333333333333,
              "#9c179e"
             ],
             [
              0.4444444444444444,
              "#bd3786"
             ],
             [
              0.5555555555555556,
              "#d8576b"
             ],
             [
              0.6666666666666666,
              "#ed7953"
             ],
             [
              0.7777777777777778,
              "#fb9f3a"
             ],
             [
              0.8888888888888888,
              "#fdca26"
             ],
             [
              1,
              "#f0f921"
             ]
            ],
            "type": "histogram2d"
           }
          ],
          "histogram2dcontour": [
           {
            "colorbar": {
             "outlinewidth": 0,
             "ticks": ""
            },
            "colorscale": [
             [
              0,
              "#0d0887"
             ],
             [
              0.1111111111111111,
              "#46039f"
             ],
             [
              0.2222222222222222,
              "#7201a8"
             ],
             [
              0.3333333333333333,
              "#9c179e"
             ],
             [
              0.4444444444444444,
              "#bd3786"
             ],
             [
              0.5555555555555556,
              "#d8576b"
             ],
             [
              0.6666666666666666,
              "#ed7953"
             ],
             [
              0.7777777777777778,
              "#fb9f3a"
             ],
             [
              0.8888888888888888,
              "#fdca26"
             ],
             [
              1,
              "#f0f921"
             ]
            ],
            "type": "histogram2dcontour"
           }
          ],
          "mesh3d": [
           {
            "colorbar": {
             "outlinewidth": 0,
             "ticks": ""
            },
            "type": "mesh3d"
           }
          ],
          "parcoords": [
           {
            "line": {
             "colorbar": {
              "outlinewidth": 0,
              "ticks": ""
             }
            },
            "type": "parcoords"
           }
          ],
          "pie": [
           {
            "automargin": true,
            "type": "pie"
           }
          ],
          "scatter": [
           {
            "fillpattern": {
             "fillmode": "overlay",
             "size": 10,
             "solidity": 0.2
            },
            "type": "scatter"
           }
          ],
          "scatter3d": [
           {
            "line": {
             "colorbar": {
              "outlinewidth": 0,
              "ticks": ""
             }
            },
            "marker": {
             "colorbar": {
              "outlinewidth": 0,
              "ticks": ""
             }
            },
            "type": "scatter3d"
           }
          ],
          "scattercarpet": [
           {
            "marker": {
             "colorbar": {
              "outlinewidth": 0,
              "ticks": ""
             }
            },
            "type": "scattercarpet"
           }
          ],
          "scattergeo": [
           {
            "marker": {
             "colorbar": {
              "outlinewidth": 0,
              "ticks": ""
             }
            },
            "type": "scattergeo"
           }
          ],
          "scattergl": [
           {
            "marker": {
             "colorbar": {
              "outlinewidth": 0,
              "ticks": ""
             }
            },
            "type": "scattergl"
           }
          ],
          "scattermapbox": [
           {
            "marker": {
             "colorbar": {
              "outlinewidth": 0,
              "ticks": ""
             }
            },
            "type": "scattermapbox"
           }
          ],
          "scatterpolar": [
           {
            "marker": {
             "colorbar": {
              "outlinewidth": 0,
              "ticks": ""
             }
            },
            "type": "scatterpolar"
           }
          ],
          "scatterpolargl": [
           {
            "marker": {
             "colorbar": {
              "outlinewidth": 0,
              "ticks": ""
             }
            },
            "type": "scatterpolargl"
           }
          ],
          "scatterternary": [
           {
            "marker": {
             "colorbar": {
              "outlinewidth": 0,
              "ticks": ""
             }
            },
            "type": "scatterternary"
           }
          ],
          "surface": [
           {
            "colorbar": {
             "outlinewidth": 0,
             "ticks": ""
            },
            "colorscale": [
             [
              0,
              "#0d0887"
             ],
             [
              0.1111111111111111,
              "#46039f"
             ],
             [
              0.2222222222222222,
              "#7201a8"
             ],
             [
              0.3333333333333333,
              "#9c179e"
             ],
             [
              0.4444444444444444,
              "#bd3786"
             ],
             [
              0.5555555555555556,
              "#d8576b"
             ],
             [
              0.6666666666666666,
              "#ed7953"
             ],
             [
              0.7777777777777778,
              "#fb9f3a"
             ],
             [
              0.8888888888888888,
              "#fdca26"
             ],
             [
              1,
              "#f0f921"
             ]
            ],
            "type": "surface"
           }
          ],
          "table": [
           {
            "cells": {
             "fill": {
              "color": "#EBF0F8"
             },
             "line": {
              "color": "white"
             }
            },
            "header": {
             "fill": {
              "color": "#C8D4E3"
             },
             "line": {
              "color": "white"
             }
            },
            "type": "table"
           }
          ]
         },
         "layout": {
          "annotationdefaults": {
           "arrowcolor": "#2a3f5f",
           "arrowhead": 0,
           "arrowwidth": 1
          },
          "autotypenumbers": "strict",
          "coloraxis": {
           "colorbar": {
            "outlinewidth": 0,
            "ticks": ""
           }
          },
          "colorscale": {
           "diverging": [
            [
             0,
             "#8e0152"
            ],
            [
             0.1,
             "#c51b7d"
            ],
            [
             0.2,
             "#de77ae"
            ],
            [
             0.3,
             "#f1b6da"
            ],
            [
             0.4,
             "#fde0ef"
            ],
            [
             0.5,
             "#f7f7f7"
            ],
            [
             0.6,
             "#e6f5d0"
            ],
            [
             0.7,
             "#b8e186"
            ],
            [
             0.8,
             "#7fbc41"
            ],
            [
             0.9,
             "#4d9221"
            ],
            [
             1,
             "#276419"
            ]
           ],
           "sequential": [
            [
             0,
             "#0d0887"
            ],
            [
             0.1111111111111111,
             "#46039f"
            ],
            [
             0.2222222222222222,
             "#7201a8"
            ],
            [
             0.3333333333333333,
             "#9c179e"
            ],
            [
             0.4444444444444444,
             "#bd3786"
            ],
            [
             0.5555555555555556,
             "#d8576b"
            ],
            [
             0.6666666666666666,
             "#ed7953"
            ],
            [
             0.7777777777777778,
             "#fb9f3a"
            ],
            [
             0.8888888888888888,
             "#fdca26"
            ],
            [
             1,
             "#f0f921"
            ]
           ],
           "sequentialminus": [
            [
             0,
             "#0d0887"
            ],
            [
             0.1111111111111111,
             "#46039f"
            ],
            [
             0.2222222222222222,
             "#7201a8"
            ],
            [
             0.3333333333333333,
             "#9c179e"
            ],
            [
             0.4444444444444444,
             "#bd3786"
            ],
            [
             0.5555555555555556,
             "#d8576b"
            ],
            [
             0.6666666666666666,
             "#ed7953"
            ],
            [
             0.7777777777777778,
             "#fb9f3a"
            ],
            [
             0.8888888888888888,
             "#fdca26"
            ],
            [
             1,
             "#f0f921"
            ]
           ]
          },
          "colorway": [
           "#636efa",
           "#EF553B",
           "#00cc96",
           "#ab63fa",
           "#FFA15A",
           "#19d3f3",
           "#FF6692",
           "#B6E880",
           "#FF97FF",
           "#FECB52"
          ],
          "font": {
           "color": "#2a3f5f"
          },
          "geo": {
           "bgcolor": "white",
           "lakecolor": "white",
           "landcolor": "#E5ECF6",
           "showlakes": true,
           "showland": true,
           "subunitcolor": "white"
          },
          "hoverlabel": {
           "align": "left"
          },
          "hovermode": "closest",
          "mapbox": {
           "style": "light"
          },
          "paper_bgcolor": "white",
          "plot_bgcolor": "#E5ECF6",
          "polar": {
           "angularaxis": {
            "gridcolor": "white",
            "linecolor": "white",
            "ticks": ""
           },
           "bgcolor": "#E5ECF6",
           "radialaxis": {
            "gridcolor": "white",
            "linecolor": "white",
            "ticks": ""
           }
          },
          "scene": {
           "xaxis": {
            "backgroundcolor": "#E5ECF6",
            "gridcolor": "white",
            "gridwidth": 2,
            "linecolor": "white",
            "showbackground": true,
            "ticks": "",
            "zerolinecolor": "white"
           },
           "yaxis": {
            "backgroundcolor": "#E5ECF6",
            "gridcolor": "white",
            "gridwidth": 2,
            "linecolor": "white",
            "showbackground": true,
            "ticks": "",
            "zerolinecolor": "white"
           },
           "zaxis": {
            "backgroundcolor": "#E5ECF6",
            "gridcolor": "white",
            "gridwidth": 2,
            "linecolor": "white",
            "showbackground": true,
            "ticks": "",
            "zerolinecolor": "white"
           }
          },
          "shapedefaults": {
           "line": {
            "color": "#2a3f5f"
           }
          },
          "ternary": {
           "aaxis": {
            "gridcolor": "white",
            "linecolor": "white",
            "ticks": ""
           },
           "baxis": {
            "gridcolor": "white",
            "linecolor": "white",
            "ticks": ""
           },
           "bgcolor": "#E5ECF6",
           "caxis": {
            "gridcolor": "white",
            "linecolor": "white",
            "ticks": ""
           }
          },
          "title": {
           "x": 0.05
          },
          "xaxis": {
           "automargin": true,
           "gridcolor": "white",
           "linecolor": "white",
           "ticks": "",
           "title": {
            "standoff": 15
           },
           "zerolinecolor": "white",
           "zerolinewidth": 2
          },
          "yaxis": {
           "automargin": true,
           "gridcolor": "white",
           "linecolor": "white",
           "ticks": "",
           "title": {
            "standoff": 15
           },
           "zerolinecolor": "white",
           "zerolinewidth": 2
          }
         }
        },
        "xaxis": {
         "anchor": "y",
         "domain": [
          0,
          1
         ],
         "title": {
          "text": "score"
         }
        },
        "yaxis": {
         "anchor": "x",
         "domain": [
          0,
          1
         ],
         "title": {
          "text": "count"
         }
        }
       }
      }
     },
     "metadata": {},
     "output_type": "display_data"
    }
   ],
   "source": [
    "px.histogram(df,x='score',nbins=20)"
   ]
  },
  {
   "cell_type": "code",
   "execution_count": null,
   "metadata": {},
   "outputs": [],
   "source": []
  }
 ],
 "metadata": {
  "kernelspec": {
   "display_name": ".venv",
   "language": "python",
   "name": "python3"
  },
  "language_info": {
   "codemirror_mode": {
    "name": "ipython",
    "version": 3
   },
   "file_extension": ".py",
   "mimetype": "text/x-python",
   "name": "python",
   "nbconvert_exporter": "python",
   "pygments_lexer": "ipython3",
   "version": "3.12.8"
  }
 },
 "nbformat": 4,
 "nbformat_minor": 2
}
